{
 "cells": [
  {
   "cell_type": "markdown",
   "metadata": {
    "papermill": {
     "duration": 0.035622,
     "end_time": "2020-12-26T09:28:46.208207",
     "exception": false,
     "start_time": "2020-12-26T09:28:46.172585",
     "status": "completed"
    },
    "tags": []
   },
   "source": [
    "<h1 style=\"text-align:center;\">Churn Prediction</h1>"
   ]
  },
  {
   "cell_type": "markdown",
   "metadata": {
    "papermill": {
     "duration": 0.031997,
     "end_time": "2020-12-26T09:28:46.272670",
     "exception": false,
     "start_time": "2020-12-26T09:28:46.240673",
     "status": "completed"
    },
    "tags": []
   },
   "source": [
    "<h3> Before we begin, let me intoduce you to business problem.</h3>\n",
    "A bank manager was disappointed as time to time many people have shut down their credit card services from that bank. and the bank manager wants to find out who is gonna leave the bank in future so he can give better offers to those customer to stick with them. so the bank manager collected the data for credit card services and wants to find answers.\n",
    "\n"
   ]
  },
  {
   "cell_type": "markdown",
   "metadata": {
    "papermill": {
     "duration": 0.032715,
     "end_time": "2020-12-26T09:28:46.337615",
     "exception": false,
     "start_time": "2020-12-26T09:28:46.304900",
     "status": "completed"
    },
    "tags": []
   },
   "source": [
    "<h2>So, How we gonna help the bank manager?</h2>"
   ]
  },
  {
   "cell_type": "markdown",
   "metadata": {
    "papermill": {
     "duration": 0.031681,
     "end_time": "2020-12-26T09:28:46.401363",
     "exception": false,
     "start_time": "2020-12-26T09:28:46.369682",
     "status": "completed"
    },
    "tags": []
   },
   "source": [
    "we will solve our problem in following steps(or how a data science project look like)\n",
    "\n",
    "* collecting data\n",
    "* data wrangling\n",
    "* a deep dive analysis on data\n",
    "* feature engineering part\n",
    "* Data preprocessing\n",
    "* building models\n",
    "* hyperparameter tuning\n",
    "* analyis on model\n"
   ]
  },
  {
   "cell_type": "code",
   "execution_count": 1,
   "metadata": {
    "_cell_guid": "b1076dfc-b9ad-4769-8c92-a6c4dae69d19",
    "_uuid": "8f2839f25d086af736a60e9eeb907d3b93b6e0e5",
    "execution": {
     "iopub.execute_input": "2020-12-26T09:28:46.468497Z",
     "iopub.status.busy": "2020-12-26T09:28:46.467672Z",
     "iopub.status.idle": "2020-12-26T09:28:46.484461Z",
     "shell.execute_reply": "2020-12-26T09:28:46.483726Z"
    },
    "papermill": {
     "duration": 0.05148,
     "end_time": "2020-12-26T09:28:46.484587",
     "exception": false,
     "start_time": "2020-12-26T09:28:46.433107",
     "status": "completed"
    },
    "tags": []
   },
   "outputs": [
    {
     "name": "stdout",
     "output_type": "stream",
     "text": [
      "/kaggle/input/credit-card-customers/BankChurners.csv\n"
     ]
    }
   ],
   "source": [
    "# This Python 3 environment comes with many helpful analytics libraries installed\n",
    "# It is defined by the kaggle/python Docker image: https://github.com/kaggle/docker-python\n",
    "# For example, here's several helpful packages to load\n",
    "\n",
    "import numpy as np # linear algebra\n",
    "import pandas as pd # data processing, CSV file I/O (e.g. pd.read_csv)\n",
    "\n",
    "# Input data files are available in the read-only \"../input/\" directory\n",
    "# For example, running this (by clicking run or pressing Shift+Enter) will list all files under the input directory\n",
    "\n",
    "import os\n",
    "for dirname, _, filenames in os.walk('/kaggle/input'):\n",
    "    for filename in filenames:\n",
    "        print(os.path.join(dirname, filename))\n",
    "\n",
    "# You can write up to 20GB to the current directory (/kaggle/working/) that gets preserved as output when you create a version using \"Save & Run All\" \n",
    "# You can also write temporary files to /kaggle/temp/, but they won't be saved outside of the current session"
   ]
  },
  {
   "cell_type": "markdown",
   "metadata": {
    "papermill": {
     "duration": 0.032489,
     "end_time": "2020-12-26T09:28:46.550069",
     "exception": false,
     "start_time": "2020-12-26T09:28:46.517580",
     "status": "completed"
    },
    "tags": []
   },
   "source": [
    "### Importing some useful libraries"
   ]
  },
  {
   "cell_type": "code",
   "execution_count": 2,
   "metadata": {
    "execution": {
     "iopub.execute_input": "2020-12-26T09:28:46.621784Z",
     "iopub.status.busy": "2020-12-26T09:28:46.621134Z",
     "iopub.status.idle": "2020-12-26T09:28:48.178107Z",
     "shell.execute_reply": "2020-12-26T09:28:48.177390Z"
    },
    "papermill": {
     "duration": 1.595897,
     "end_time": "2020-12-26T09:28:48.178269",
     "exception": false,
     "start_time": "2020-12-26T09:28:46.582372",
     "status": "completed"
    },
    "tags": []
   },
   "outputs": [],
   "source": [
    "import matplotlib.pyplot as plt\n",
    "import seaborn as sns\n",
    "from imblearn.combine import SMOTETomek\n",
    "from sklearn.ensemble import RandomForestClassifier\n",
    "from sklearn.metrics import confusion_matrix\n",
    "from sklearn.metrics import accuracy_score\n",
    "from sklearn.model_selection import train_test_split"
   ]
  },
  {
   "cell_type": "code",
   "execution_count": 3,
   "metadata": {
    "_cell_guid": "79c7e3d0-c299-4dcb-8224-4455121ee9b0",
    "_uuid": "d629ff2d2480ee46fbb7e2d37f6b5fab8052498a",
    "execution": {
     "iopub.execute_input": "2020-12-26T09:28:48.254661Z",
     "iopub.status.busy": "2020-12-26T09:28:48.253790Z",
     "iopub.status.idle": "2020-12-26T09:28:48.360596Z",
     "shell.execute_reply": "2020-12-26T09:28:48.361108Z"
    },
    "papermill": {
     "duration": 0.147787,
     "end_time": "2020-12-26T09:28:48.361284",
     "exception": false,
     "start_time": "2020-12-26T09:28:48.213497",
     "status": "completed"
    },
    "tags": []
   },
   "outputs": [
    {
     "name": "stdout",
     "output_type": "stream",
     "text": [
      "Toatal No oF rows 10127\n",
      "Toatal No oF columns 23\n",
      "<class 'pandas.core.frame.DataFrame'>\n",
      "RangeIndex: 10127 entries, 0 to 10126\n",
      "Data columns (total 23 columns):\n",
      " #   Column                                                                                                                              Non-Null Count  Dtype  \n",
      "---  ------                                                                                                                              --------------  -----  \n",
      " 0   CLIENTNUM                                                                                                                           10127 non-null  int64  \n",
      " 1   Attrition_Flag                                                                                                                      10127 non-null  object \n",
      " 2   Customer_Age                                                                                                                        10127 non-null  int64  \n",
      " 3   Gender                                                                                                                              10127 non-null  object \n",
      " 4   Dependent_count                                                                                                                     10127 non-null  int64  \n",
      " 5   Education_Level                                                                                                                     10127 non-null  object \n",
      " 6   Marital_Status                                                                                                                      10127 non-null  object \n",
      " 7   Income_Category                                                                                                                     10127 non-null  object \n",
      " 8   Card_Category                                                                                                                       10127 non-null  object \n",
      " 9   Months_on_book                                                                                                                      10127 non-null  int64  \n",
      " 10  Total_Relationship_Count                                                                                                            10127 non-null  int64  \n",
      " 11  Months_Inactive_12_mon                                                                                                              10127 non-null  int64  \n",
      " 12  Contacts_Count_12_mon                                                                                                               10127 non-null  int64  \n",
      " 13  Credit_Limit                                                                                                                        10127 non-null  float64\n",
      " 14  Total_Revolving_Bal                                                                                                                 10127 non-null  int64  \n",
      " 15  Avg_Open_To_Buy                                                                                                                     10127 non-null  float64\n",
      " 16  Total_Amt_Chng_Q4_Q1                                                                                                                10127 non-null  float64\n",
      " 17  Total_Trans_Amt                                                                                                                     10127 non-null  int64  \n",
      " 18  Total_Trans_Ct                                                                                                                      10127 non-null  int64  \n",
      " 19  Total_Ct_Chng_Q4_Q1                                                                                                                 10127 non-null  float64\n",
      " 20  Avg_Utilization_Ratio                                                                                                               10127 non-null  float64\n",
      " 21  Naive_Bayes_Classifier_Attrition_Flag_Card_Category_Contacts_Count_12_mon_Dependent_count_Education_Level_Months_Inactive_12_mon_1  10127 non-null  float64\n",
      " 22  Naive_Bayes_Classifier_Attrition_Flag_Card_Category_Contacts_Count_12_mon_Dependent_count_Education_Level_Months_Inactive_12_mon_2  10127 non-null  float64\n",
      "dtypes: float64(7), int64(10), object(6)\n",
      "memory usage: 1.8+ MB\n"
     ]
    }
   ],
   "source": [
    "#reading data from kaggle input\n",
    "df=pd.read_csv('/kaggle/input/credit-card-customers/BankChurners.csv')\n",
    "print('Toatal No oF rows',df.shape[0])\n",
    "print('Toatal No oF columns',df.shape[1])\n",
    "df.info()"
   ]
  },
  {
   "cell_type": "markdown",
   "metadata": {
    "papermill": {
     "duration": 0.032749,
     "end_time": "2020-12-26T09:28:48.427378",
     "exception": false,
     "start_time": "2020-12-26T09:28:48.394629",
     "status": "completed"
    },
    "tags": []
   },
   "source": [
    "As already mentioned in the problem statement that the last two columns are not useful at all. so we gonna drop it before proceeding to next step"
   ]
  },
  {
   "cell_type": "code",
   "execution_count": 4,
   "metadata": {
    "execution": {
     "iopub.execute_input": "2020-12-26T09:28:48.496744Z",
     "iopub.status.busy": "2020-12-26T09:28:48.496117Z",
     "iopub.status.idle": "2020-12-26T09:28:48.537686Z",
     "shell.execute_reply": "2020-12-26T09:28:48.537064Z"
    },
    "papermill": {
     "duration": 0.077681,
     "end_time": "2020-12-26T09:28:48.537833",
     "exception": false,
     "start_time": "2020-12-26T09:28:48.460152",
     "status": "completed"
    },
    "tags": []
   },
   "outputs": [
    {
     "data": {
      "text/html": [
       "<div>\n",
       "<style scoped>\n",
       "    .dataframe tbody tr th:only-of-type {\n",
       "        vertical-align: middle;\n",
       "    }\n",
       "\n",
       "    .dataframe tbody tr th {\n",
       "        vertical-align: top;\n",
       "    }\n",
       "\n",
       "    .dataframe thead th {\n",
       "        text-align: right;\n",
       "    }\n",
       "</style>\n",
       "<table border=\"1\" class=\"dataframe\">\n",
       "  <thead>\n",
       "    <tr style=\"text-align: right;\">\n",
       "      <th></th>\n",
       "      <th>CLIENTNUM</th>\n",
       "      <th>Attrition_Flag</th>\n",
       "      <th>Customer_Age</th>\n",
       "      <th>Gender</th>\n",
       "      <th>Dependent_count</th>\n",
       "      <th>Education_Level</th>\n",
       "      <th>Marital_Status</th>\n",
       "      <th>Income_Category</th>\n",
       "      <th>Card_Category</th>\n",
       "      <th>Months_on_book</th>\n",
       "      <th>...</th>\n",
       "      <th>Months_Inactive_12_mon</th>\n",
       "      <th>Contacts_Count_12_mon</th>\n",
       "      <th>Credit_Limit</th>\n",
       "      <th>Total_Revolving_Bal</th>\n",
       "      <th>Avg_Open_To_Buy</th>\n",
       "      <th>Total_Amt_Chng_Q4_Q1</th>\n",
       "      <th>Total_Trans_Amt</th>\n",
       "      <th>Total_Trans_Ct</th>\n",
       "      <th>Total_Ct_Chng_Q4_Q1</th>\n",
       "      <th>Avg_Utilization_Ratio</th>\n",
       "    </tr>\n",
       "  </thead>\n",
       "  <tbody>\n",
       "    <tr>\n",
       "      <th>0</th>\n",
       "      <td>768805383</td>\n",
       "      <td>Existing Customer</td>\n",
       "      <td>45</td>\n",
       "      <td>M</td>\n",
       "      <td>3</td>\n",
       "      <td>High School</td>\n",
       "      <td>Married</td>\n",
       "      <td>$60K - $80K</td>\n",
       "      <td>Blue</td>\n",
       "      <td>39</td>\n",
       "      <td>...</td>\n",
       "      <td>1</td>\n",
       "      <td>3</td>\n",
       "      <td>12691.0</td>\n",
       "      <td>777</td>\n",
       "      <td>11914.0</td>\n",
       "      <td>1.335</td>\n",
       "      <td>1144</td>\n",
       "      <td>42</td>\n",
       "      <td>1.625</td>\n",
       "      <td>0.061</td>\n",
       "    </tr>\n",
       "    <tr>\n",
       "      <th>1</th>\n",
       "      <td>818770008</td>\n",
       "      <td>Existing Customer</td>\n",
       "      <td>49</td>\n",
       "      <td>F</td>\n",
       "      <td>5</td>\n",
       "      <td>Graduate</td>\n",
       "      <td>Single</td>\n",
       "      <td>Less than $40K</td>\n",
       "      <td>Blue</td>\n",
       "      <td>44</td>\n",
       "      <td>...</td>\n",
       "      <td>1</td>\n",
       "      <td>2</td>\n",
       "      <td>8256.0</td>\n",
       "      <td>864</td>\n",
       "      <td>7392.0</td>\n",
       "      <td>1.541</td>\n",
       "      <td>1291</td>\n",
       "      <td>33</td>\n",
       "      <td>3.714</td>\n",
       "      <td>0.105</td>\n",
       "    </tr>\n",
       "  </tbody>\n",
       "</table>\n",
       "<p>2 rows × 21 columns</p>\n",
       "</div>"
      ],
      "text/plain": [
       "   CLIENTNUM     Attrition_Flag  Customer_Age Gender  Dependent_count  \\\n",
       "0  768805383  Existing Customer            45      M                3   \n",
       "1  818770008  Existing Customer            49      F                5   \n",
       "\n",
       "  Education_Level Marital_Status Income_Category Card_Category  \\\n",
       "0     High School        Married     $60K - $80K          Blue   \n",
       "1        Graduate         Single  Less than $40K          Blue   \n",
       "\n",
       "   Months_on_book  ...  Months_Inactive_12_mon  Contacts_Count_12_mon  \\\n",
       "0              39  ...                       1                      3   \n",
       "1              44  ...                       1                      2   \n",
       "\n",
       "   Credit_Limit  Total_Revolving_Bal  Avg_Open_To_Buy  Total_Amt_Chng_Q4_Q1  \\\n",
       "0       12691.0                  777          11914.0                 1.335   \n",
       "1        8256.0                  864           7392.0                 1.541   \n",
       "\n",
       "   Total_Trans_Amt  Total_Trans_Ct  Total_Ct_Chng_Q4_Q1  Avg_Utilization_Ratio  \n",
       "0             1144              42                1.625                  0.061  \n",
       "1             1291              33                3.714                  0.105  \n",
       "\n",
       "[2 rows x 21 columns]"
      ]
     },
     "execution_count": 4,
     "metadata": {},
     "output_type": "execute_result"
    }
   ],
   "source": [
    "df.drop([df.columns[21],df.columns[22]],axis=1,inplace=True)\n",
    "df.head(2)"
   ]
  },
  {
   "cell_type": "markdown",
   "metadata": {
    "papermill": {
     "duration": 0.032904,
     "end_time": "2020-12-26T09:28:48.604504",
     "exception": false,
     "start_time": "2020-12-26T09:28:48.571600",
     "status": "completed"
    },
    "tags": []
   },
   "source": [
    "Allright so we have deleted the last two columns and now we are done with data collecting process. now we will gain insight about data."
   ]
  },
  {
   "cell_type": "markdown",
   "metadata": {
    "papermill": {
     "duration": 0.035404,
     "end_time": "2020-12-26T09:28:48.673060",
     "exception": false,
     "start_time": "2020-12-26T09:28:48.637656",
     "status": "completed"
    },
    "tags": []
   },
   "source": [
    "<h1 style=\"text-align:center;\">Deep dive into data</h1>"
   ]
  },
  {
   "cell_type": "code",
   "execution_count": null,
   "metadata": {
    "papermill": {
     "duration": 0.033541,
     "end_time": "2020-12-26T09:28:48.740077",
     "exception": false,
     "start_time": "2020-12-26T09:28:48.706536",
     "status": "completed"
    },
    "tags": []
   },
   "outputs": [],
   "source": []
  },
  {
   "cell_type": "markdown",
   "metadata": {
    "papermill": {
     "duration": 0.032979,
     "end_time": "2020-12-26T09:28:48.806837",
     "exception": false,
     "start_time": "2020-12-26T09:28:48.773858",
     "status": "completed"
    },
    "tags": []
   },
   "source": []
  },
  {
   "cell_type": "code",
   "execution_count": 5,
   "metadata": {
    "execution": {
     "iopub.execute_input": "2020-12-26T09:28:48.879933Z",
     "iopub.status.busy": "2020-12-26T09:28:48.879257Z",
     "iopub.status.idle": "2020-12-26T09:28:48.940851Z",
     "shell.execute_reply": "2020-12-26T09:28:48.940245Z"
    },
    "papermill": {
     "duration": 0.099961,
     "end_time": "2020-12-26T09:28:48.940980",
     "exception": false,
     "start_time": "2020-12-26T09:28:48.841019",
     "status": "completed"
    },
    "tags": []
   },
   "outputs": [
    {
     "data": {
      "text/html": [
       "<div>\n",
       "<style scoped>\n",
       "    .dataframe tbody tr th:only-of-type {\n",
       "        vertical-align: middle;\n",
       "    }\n",
       "\n",
       "    .dataframe tbody tr th {\n",
       "        vertical-align: top;\n",
       "    }\n",
       "\n",
       "    .dataframe thead th {\n",
       "        text-align: right;\n",
       "    }\n",
       "</style>\n",
       "<table border=\"1\" class=\"dataframe\">\n",
       "  <thead>\n",
       "    <tr style=\"text-align: right;\">\n",
       "      <th></th>\n",
       "      <th>CLIENTNUM</th>\n",
       "      <th>Customer_Age</th>\n",
       "      <th>Dependent_count</th>\n",
       "      <th>Months_on_book</th>\n",
       "      <th>Total_Relationship_Count</th>\n",
       "      <th>Months_Inactive_12_mon</th>\n",
       "      <th>Contacts_Count_12_mon</th>\n",
       "      <th>Credit_Limit</th>\n",
       "      <th>Total_Revolving_Bal</th>\n",
       "      <th>Avg_Open_To_Buy</th>\n",
       "      <th>Total_Amt_Chng_Q4_Q1</th>\n",
       "      <th>Total_Trans_Amt</th>\n",
       "      <th>Total_Trans_Ct</th>\n",
       "      <th>Total_Ct_Chng_Q4_Q1</th>\n",
       "      <th>Avg_Utilization_Ratio</th>\n",
       "    </tr>\n",
       "  </thead>\n",
       "  <tbody>\n",
       "    <tr>\n",
       "      <th>count</th>\n",
       "      <td>1.012700e+04</td>\n",
       "      <td>10127.000000</td>\n",
       "      <td>10127.000000</td>\n",
       "      <td>10127.000000</td>\n",
       "      <td>10127.000000</td>\n",
       "      <td>10127.000000</td>\n",
       "      <td>10127.000000</td>\n",
       "      <td>10127.000000</td>\n",
       "      <td>10127.000000</td>\n",
       "      <td>10127.000000</td>\n",
       "      <td>10127.000000</td>\n",
       "      <td>10127.000000</td>\n",
       "      <td>10127.000000</td>\n",
       "      <td>10127.000000</td>\n",
       "      <td>10127.000000</td>\n",
       "    </tr>\n",
       "    <tr>\n",
       "      <th>mean</th>\n",
       "      <td>7.391776e+08</td>\n",
       "      <td>46.325960</td>\n",
       "      <td>2.346203</td>\n",
       "      <td>35.928409</td>\n",
       "      <td>3.812580</td>\n",
       "      <td>2.341167</td>\n",
       "      <td>2.455317</td>\n",
       "      <td>8631.953698</td>\n",
       "      <td>1162.814061</td>\n",
       "      <td>7469.139637</td>\n",
       "      <td>0.759941</td>\n",
       "      <td>4404.086304</td>\n",
       "      <td>64.858695</td>\n",
       "      <td>0.712222</td>\n",
       "      <td>0.274894</td>\n",
       "    </tr>\n",
       "    <tr>\n",
       "      <th>std</th>\n",
       "      <td>3.690378e+07</td>\n",
       "      <td>8.016814</td>\n",
       "      <td>1.298908</td>\n",
       "      <td>7.986416</td>\n",
       "      <td>1.554408</td>\n",
       "      <td>1.010622</td>\n",
       "      <td>1.106225</td>\n",
       "      <td>9088.776650</td>\n",
       "      <td>814.987335</td>\n",
       "      <td>9090.685324</td>\n",
       "      <td>0.219207</td>\n",
       "      <td>3397.129254</td>\n",
       "      <td>23.472570</td>\n",
       "      <td>0.238086</td>\n",
       "      <td>0.275691</td>\n",
       "    </tr>\n",
       "    <tr>\n",
       "      <th>min</th>\n",
       "      <td>7.080821e+08</td>\n",
       "      <td>26.000000</td>\n",
       "      <td>0.000000</td>\n",
       "      <td>13.000000</td>\n",
       "      <td>1.000000</td>\n",
       "      <td>0.000000</td>\n",
       "      <td>0.000000</td>\n",
       "      <td>1438.300000</td>\n",
       "      <td>0.000000</td>\n",
       "      <td>3.000000</td>\n",
       "      <td>0.000000</td>\n",
       "      <td>510.000000</td>\n",
       "      <td>10.000000</td>\n",
       "      <td>0.000000</td>\n",
       "      <td>0.000000</td>\n",
       "    </tr>\n",
       "    <tr>\n",
       "      <th>25%</th>\n",
       "      <td>7.130368e+08</td>\n",
       "      <td>41.000000</td>\n",
       "      <td>1.000000</td>\n",
       "      <td>31.000000</td>\n",
       "      <td>3.000000</td>\n",
       "      <td>2.000000</td>\n",
       "      <td>2.000000</td>\n",
       "      <td>2555.000000</td>\n",
       "      <td>359.000000</td>\n",
       "      <td>1324.500000</td>\n",
       "      <td>0.631000</td>\n",
       "      <td>2155.500000</td>\n",
       "      <td>45.000000</td>\n",
       "      <td>0.582000</td>\n",
       "      <td>0.023000</td>\n",
       "    </tr>\n",
       "    <tr>\n",
       "      <th>50%</th>\n",
       "      <td>7.179264e+08</td>\n",
       "      <td>46.000000</td>\n",
       "      <td>2.000000</td>\n",
       "      <td>36.000000</td>\n",
       "      <td>4.000000</td>\n",
       "      <td>2.000000</td>\n",
       "      <td>2.000000</td>\n",
       "      <td>4549.000000</td>\n",
       "      <td>1276.000000</td>\n",
       "      <td>3474.000000</td>\n",
       "      <td>0.736000</td>\n",
       "      <td>3899.000000</td>\n",
       "      <td>67.000000</td>\n",
       "      <td>0.702000</td>\n",
       "      <td>0.176000</td>\n",
       "    </tr>\n",
       "    <tr>\n",
       "      <th>75%</th>\n",
       "      <td>7.731435e+08</td>\n",
       "      <td>52.000000</td>\n",
       "      <td>3.000000</td>\n",
       "      <td>40.000000</td>\n",
       "      <td>5.000000</td>\n",
       "      <td>3.000000</td>\n",
       "      <td>3.000000</td>\n",
       "      <td>11067.500000</td>\n",
       "      <td>1784.000000</td>\n",
       "      <td>9859.000000</td>\n",
       "      <td>0.859000</td>\n",
       "      <td>4741.000000</td>\n",
       "      <td>81.000000</td>\n",
       "      <td>0.818000</td>\n",
       "      <td>0.503000</td>\n",
       "    </tr>\n",
       "    <tr>\n",
       "      <th>max</th>\n",
       "      <td>8.283431e+08</td>\n",
       "      <td>73.000000</td>\n",
       "      <td>5.000000</td>\n",
       "      <td>56.000000</td>\n",
       "      <td>6.000000</td>\n",
       "      <td>6.000000</td>\n",
       "      <td>6.000000</td>\n",
       "      <td>34516.000000</td>\n",
       "      <td>2517.000000</td>\n",
       "      <td>34516.000000</td>\n",
       "      <td>3.397000</td>\n",
       "      <td>18484.000000</td>\n",
       "      <td>139.000000</td>\n",
       "      <td>3.714000</td>\n",
       "      <td>0.999000</td>\n",
       "    </tr>\n",
       "  </tbody>\n",
       "</table>\n",
       "</div>"
      ],
      "text/plain": [
       "          CLIENTNUM  Customer_Age  Dependent_count  Months_on_book  \\\n",
       "count  1.012700e+04  10127.000000     10127.000000    10127.000000   \n",
       "mean   7.391776e+08     46.325960         2.346203       35.928409   \n",
       "std    3.690378e+07      8.016814         1.298908        7.986416   \n",
       "min    7.080821e+08     26.000000         0.000000       13.000000   \n",
       "25%    7.130368e+08     41.000000         1.000000       31.000000   \n",
       "50%    7.179264e+08     46.000000         2.000000       36.000000   \n",
       "75%    7.731435e+08     52.000000         3.000000       40.000000   \n",
       "max    8.283431e+08     73.000000         5.000000       56.000000   \n",
       "\n",
       "       Total_Relationship_Count  Months_Inactive_12_mon  \\\n",
       "count              10127.000000            10127.000000   \n",
       "mean                   3.812580                2.341167   \n",
       "std                    1.554408                1.010622   \n",
       "min                    1.000000                0.000000   \n",
       "25%                    3.000000                2.000000   \n",
       "50%                    4.000000                2.000000   \n",
       "75%                    5.000000                3.000000   \n",
       "max                    6.000000                6.000000   \n",
       "\n",
       "       Contacts_Count_12_mon  Credit_Limit  Total_Revolving_Bal  \\\n",
       "count           10127.000000  10127.000000         10127.000000   \n",
       "mean                2.455317   8631.953698          1162.814061   \n",
       "std                 1.106225   9088.776650           814.987335   \n",
       "min                 0.000000   1438.300000             0.000000   \n",
       "25%                 2.000000   2555.000000           359.000000   \n",
       "50%                 2.000000   4549.000000          1276.000000   \n",
       "75%                 3.000000  11067.500000          1784.000000   \n",
       "max                 6.000000  34516.000000          2517.000000   \n",
       "\n",
       "       Avg_Open_To_Buy  Total_Amt_Chng_Q4_Q1  Total_Trans_Amt  Total_Trans_Ct  \\\n",
       "count     10127.000000          10127.000000     10127.000000    10127.000000   \n",
       "mean       7469.139637              0.759941      4404.086304       64.858695   \n",
       "std        9090.685324              0.219207      3397.129254       23.472570   \n",
       "min           3.000000              0.000000       510.000000       10.000000   \n",
       "25%        1324.500000              0.631000      2155.500000       45.000000   \n",
       "50%        3474.000000              0.736000      3899.000000       67.000000   \n",
       "75%        9859.000000              0.859000      4741.000000       81.000000   \n",
       "max       34516.000000              3.397000     18484.000000      139.000000   \n",
       "\n",
       "       Total_Ct_Chng_Q4_Q1  Avg_Utilization_Ratio  \n",
       "count         10127.000000           10127.000000  \n",
       "mean              0.712222               0.274894  \n",
       "std               0.238086               0.275691  \n",
       "min               0.000000               0.000000  \n",
       "25%               0.582000               0.023000  \n",
       "50%               0.702000               0.176000  \n",
       "75%               0.818000               0.503000  \n",
       "max               3.714000               0.999000  "
      ]
     },
     "execution_count": 5,
     "metadata": {},
     "output_type": "execute_result"
    }
   ],
   "source": [
    "# lets describe the data.... the script written below will give info about many thing..lets check\n",
    "df.describe()"
   ]
  },
  {
   "cell_type": "markdown",
   "metadata": {
    "papermill": {
     "duration": 0.034784,
     "end_time": "2020-12-26T09:28:49.010926",
     "exception": false,
     "start_time": "2020-12-26T09:28:48.976142",
     "status": "completed"
    },
    "tags": []
   },
   "source": [
    "**Note:** the above code only works on numerical data\n",
    "<br>\n",
    "As of now you can see that it gives the idea about mean ,max,count of the object.\n",
    "before moving further lets check about the missing values in data."
   ]
  },
  {
   "cell_type": "code",
   "execution_count": 6,
   "metadata": {
    "execution": {
     "iopub.execute_input": "2020-12-26T09:28:49.093156Z",
     "iopub.status.busy": "2020-12-26T09:28:49.092393Z",
     "iopub.status.idle": "2020-12-26T09:28:49.099995Z",
     "shell.execute_reply": "2020-12-26T09:28:49.099427Z"
    },
    "papermill": {
     "duration": 0.054663,
     "end_time": "2020-12-26T09:28:49.100116",
     "exception": false,
     "start_time": "2020-12-26T09:28:49.045453",
     "status": "completed"
    },
    "tags": []
   },
   "outputs": [
    {
     "data": {
      "text/plain": [
       "CLIENTNUM                   0\n",
       "Attrition_Flag              0\n",
       "Customer_Age                0\n",
       "Gender                      0\n",
       "Dependent_count             0\n",
       "Education_Level             0\n",
       "Marital_Status              0\n",
       "Income_Category             0\n",
       "Card_Category               0\n",
       "Months_on_book              0\n",
       "Total_Relationship_Count    0\n",
       "Months_Inactive_12_mon      0\n",
       "Contacts_Count_12_mon       0\n",
       "Credit_Limit                0\n",
       "Total_Revolving_Bal         0\n",
       "Avg_Open_To_Buy             0\n",
       "Total_Amt_Chng_Q4_Q1        0\n",
       "Total_Trans_Amt             0\n",
       "Total_Trans_Ct              0\n",
       "Total_Ct_Chng_Q4_Q1         0\n",
       "Avg_Utilization_Ratio       0\n",
       "dtype: int64"
      ]
     },
     "execution_count": 6,
     "metadata": {},
     "output_type": "execute_result"
    }
   ],
   "source": [
    "df.isnull().sum()"
   ]
  },
  {
   "cell_type": "code",
   "execution_count": 7,
   "metadata": {
    "execution": {
     "iopub.execute_input": "2020-12-26T09:28:49.178151Z",
     "iopub.status.busy": "2020-12-26T09:28:49.177376Z",
     "iopub.status.idle": "2020-12-26T09:28:49.356431Z",
     "shell.execute_reply": "2020-12-26T09:28:49.357099Z"
    },
    "papermill": {
     "duration": 0.2222,
     "end_time": "2020-12-26T09:28:49.357275",
     "exception": false,
     "start_time": "2020-12-26T09:28:49.135075",
     "status": "completed"
    },
    "tags": []
   },
   "outputs": [
    {
     "data": {
      "text/plain": [
       "<matplotlib.axes._subplots.AxesSubplot at 0x7f8386d88bd0>"
      ]
     },
     "execution_count": 7,
     "metadata": {},
     "output_type": "execute_result"
    },
    {
     "data": {
      "image/png": "[encoded data removed]",
      "text/plain": [
       "<Figure size 432x288 with 1 Axes>"
      ]
     },
     "metadata": {
      "needs_background": "light"
     },
     "output_type": "display_data"
    }
   ],
   "source": [
    "sns.countplot(df['Attrition_Flag'])"
   ]
  },
  {
   "cell_type": "markdown",
   "metadata": {
    "papermill": {
     "duration": 0.035847,
     "end_time": "2020-12-26T09:28:49.429901",
     "exception": false,
     "start_time": "2020-12-26T09:28:49.394054",
     "status": "completed"
    },
    "tags": []
   },
   "source": [
    "IT is highly imbalanced dataset...as our target column is having 85-15 ration which needs a fine technuique to train our model."
   ]
  },
  {
   "cell_type": "markdown",
   "metadata": {
    "papermill": {
     "duration": 0.036029,
     "end_time": "2020-12-26T09:28:49.502130",
     "exception": false,
     "start_time": "2020-12-26T09:28:49.466101",
     "status": "completed"
    },
    "tags": []
   },
   "source": [
    "AS we can see there are no missing values in data.. which is good for us.\n"
   ]
  },
  {
   "cell_type": "markdown",
   "metadata": {
    "papermill": {
     "duration": 0.035883,
     "end_time": "2020-12-26T09:28:49.574076",
     "exception": false,
     "start_time": "2020-12-26T09:28:49.538193",
     "status": "completed"
    },
    "tags": []
   },
   "source": [
    "<h1 style=\"text-align:center;\">Exploratort data analysis</h1>"
   ]
  },
  {
   "cell_type": "markdown",
   "metadata": {
    "papermill": {
     "duration": 0.037927,
     "end_time": "2020-12-26T09:28:49.648338",
     "exception": false,
     "start_time": "2020-12-26T09:28:49.610411",
     "status": "completed"
    },
    "tags": []
   },
   "source": [
    "here we are splitting categorical data and numerical data..so that it will be easy for us to do anlysis."
   ]
  },
  {
   "cell_type": "code",
   "execution_count": 8,
   "metadata": {
    "execution": {
     "iopub.execute_input": "2020-12-26T09:28:49.733746Z",
     "iopub.status.busy": "2020-12-26T09:28:49.732845Z",
     "iopub.status.idle": "2020-12-26T09:28:49.736990Z",
     "shell.execute_reply": "2020-12-26T09:28:49.736419Z"
    },
    "papermill": {
     "duration": 0.051414,
     "end_time": "2020-12-26T09:28:49.737112",
     "exception": false,
     "start_time": "2020-12-26T09:28:49.685698",
     "status": "completed"
    },
    "tags": []
   },
   "outputs": [],
   "source": [
    "df_obj=df.select_dtypes(include=[object])\n",
    "df_numr=df.select_dtypes(exclude=[object])"
   ]
  },
  {
   "cell_type": "code",
   "execution_count": 9,
   "metadata": {
    "execution": {
     "iopub.execute_input": "2020-12-26T09:28:49.829010Z",
     "iopub.status.busy": "2020-12-26T09:28:49.828035Z",
     "iopub.status.idle": "2020-12-26T09:28:49.833588Z",
     "shell.execute_reply": "2020-12-26T09:28:49.832949Z"
    },
    "papermill": {
     "duration": 0.05946,
     "end_time": "2020-12-26T09:28:49.833707",
     "exception": false,
     "start_time": "2020-12-26T09:28:49.774247",
     "status": "completed"
    },
    "tags": []
   },
   "outputs": [
    {
     "data": {
      "text/html": [
       "<div>\n",
       "<style scoped>\n",
       "    .dataframe tbody tr th:only-of-type {\n",
       "        vertical-align: middle;\n",
       "    }\n",
       "\n",
       "    .dataframe tbody tr th {\n",
       "        vertical-align: top;\n",
       "    }\n",
       "\n",
       "    .dataframe thead th {\n",
       "        text-align: right;\n",
       "    }\n",
       "</style>\n",
       "<table border=\"1\" class=\"dataframe\">\n",
       "  <thead>\n",
       "    <tr style=\"text-align: right;\">\n",
       "      <th></th>\n",
       "      <th>Attrition_Flag</th>\n",
       "      <th>Gender</th>\n",
       "      <th>Education_Level</th>\n",
       "      <th>Marital_Status</th>\n",
       "      <th>Income_Category</th>\n",
       "      <th>Card_Category</th>\n",
       "    </tr>\n",
       "  </thead>\n",
       "  <tbody>\n",
       "    <tr>\n",
       "      <th>0</th>\n",
       "      <td>Existing Customer</td>\n",
       "      <td>M</td>\n",
       "      <td>High School</td>\n",
       "      <td>Married</td>\n",
       "      <td>$60K - $80K</td>\n",
       "      <td>Blue</td>\n",
       "    </tr>\n",
       "    <tr>\n",
       "      <th>1</th>\n",
       "      <td>Existing Customer</td>\n",
       "      <td>F</td>\n",
       "      <td>Graduate</td>\n",
       "      <td>Single</td>\n",
       "      <td>Less than $40K</td>\n",
       "      <td>Blue</td>\n",
       "    </tr>\n",
       "    <tr>\n",
       "      <th>2</th>\n",
       "      <td>Existing Customer</td>\n",
       "      <td>M</td>\n",
       "      <td>Graduate</td>\n",
       "      <td>Married</td>\n",
       "      <td>$80K - $120K</td>\n",
       "      <td>Blue</td>\n",
       "    </tr>\n",
       "    <tr>\n",
       "      <th>3</th>\n",
       "      <td>Existing Customer</td>\n",
       "      <td>F</td>\n",
       "      <td>High School</td>\n",
       "      <td>Unknown</td>\n",
       "      <td>Less than $40K</td>\n",
       "      <td>Blue</td>\n",
       "    </tr>\n",
       "    <tr>\n",
       "      <th>4</th>\n",
       "      <td>Existing Customer</td>\n",
       "      <td>M</td>\n",
       "      <td>Uneducated</td>\n",
       "      <td>Married</td>\n",
       "      <td>$60K - $80K</td>\n",
       "      <td>Blue</td>\n",
       "    </tr>\n",
       "    <tr>\n",
       "      <th>...</th>\n",
       "      <td>...</td>\n",
       "      <td>...</td>\n",
       "      <td>...</td>\n",
       "      <td>...</td>\n",
       "      <td>...</td>\n",
       "      <td>...</td>\n",
       "    </tr>\n",
       "    <tr>\n",
       "      <th>10122</th>\n",
       "      <td>Existing Customer</td>\n",
       "      <td>M</td>\n",
       "      <td>Graduate</td>\n",
       "      <td>Single</td>\n",
       "      <td>$40K - $60K</td>\n",
       "      <td>Blue</td>\n",
       "    </tr>\n",
       "    <tr>\n",
       "      <th>10123</th>\n",
       "      <td>Attrited Customer</td>\n",
       "      <td>M</td>\n",
       "      <td>Unknown</td>\n",
       "      <td>Divorced</td>\n",
       "      <td>$40K - $60K</td>\n",
       "      <td>Blue</td>\n",
       "    </tr>\n",
       "    <tr>\n",
       "      <th>10124</th>\n",
       "      <td>Attrited Customer</td>\n",
       "      <td>F</td>\n",
       "      <td>High School</td>\n",
       "      <td>Married</td>\n",
       "      <td>Less than $40K</td>\n",
       "      <td>Blue</td>\n",
       "    </tr>\n",
       "    <tr>\n",
       "      <th>10125</th>\n",
       "      <td>Attrited Customer</td>\n",
       "      <td>M</td>\n",
       "      <td>Graduate</td>\n",
       "      <td>Unknown</td>\n",
       "      <td>$40K - $60K</td>\n",
       "      <td>Blue</td>\n",
       "    </tr>\n",
       "    <tr>\n",
       "      <th>10126</th>\n",
       "      <td>Attrited Customer</td>\n",
       "      <td>F</td>\n",
       "      <td>Graduate</td>\n",
       "      <td>Married</td>\n",
       "      <td>Less than $40K</td>\n",
       "      <td>Silver</td>\n",
       "    </tr>\n",
       "  </tbody>\n",
       "</table>\n",
       "<p>10127 rows × 6 columns</p>\n",
       "</div>"
      ],
      "text/plain": [
       "          Attrition_Flag Gender Education_Level Marital_Status  \\\n",
       "0      Existing Customer      M     High School        Married   \n",
       "1      Existing Customer      F        Graduate         Single   \n",
       "2      Existing Customer      M        Graduate        Married   \n",
       "3      Existing Customer      F     High School        Unknown   \n",
       "4      Existing Customer      M      Uneducated        Married   \n",
       "...                  ...    ...             ...            ...   \n",
       "10122  Existing Customer      M        Graduate         Single   \n",
       "10123  Attrited Customer      M         Unknown       Divorced   \n",
       "10124  Attrited Customer      F     High School        Married   \n",
       "10125  Attrited Customer      M        Graduate        Unknown   \n",
       "10126  Attrited Customer      F        Graduate        Married   \n",
       "\n",
       "      Income_Category Card_Category  \n",
       "0         $60K - $80K          Blue  \n",
       "1      Less than $40K          Blue  \n",
       "2        $80K - $120K          Blue  \n",
       "3      Less than $40K          Blue  \n",
       "4         $60K - $80K          Blue  \n",
       "...               ...           ...  \n",
       "10122     $40K - $60K          Blue  \n",
       "10123     $40K - $60K          Blue  \n",
       "10124  Less than $40K          Blue  \n",
       "10125     $40K - $60K          Blue  \n",
       "10126  Less than $40K        Silver  \n",
       "\n",
       "[10127 rows x 6 columns]"
      ]
     },
     "execution_count": 9,
     "metadata": {},
     "output_type": "execute_result"
    }
   ],
   "source": [
    "df_obj"
   ]
  },
  {
   "cell_type": "markdown",
   "metadata": {
    "papermill": {
     "duration": 0.036767,
     "end_time": "2020-12-26T09:28:49.907649",
     "exception": false,
     "start_time": "2020-12-26T09:28:49.870882",
     "status": "completed"
    },
    "tags": []
   },
   "source": [
    "1. lets do UNIVARIATE analysis on categorical variable"
   ]
  },
  {
   "cell_type": "code",
   "execution_count": 10,
   "metadata": {
    "execution": {
     "iopub.execute_input": "2020-12-26T09:28:50.012413Z",
     "iopub.status.busy": "2020-12-26T09:28:50.011518Z",
     "iopub.status.idle": "2020-12-26T09:28:50.015304Z",
     "shell.execute_reply": "2020-12-26T09:28:50.015984Z"
    },
    "papermill": {
     "duration": 0.071104,
     "end_time": "2020-12-26T09:28:50.016154",
     "exception": false,
     "start_time": "2020-12-26T09:28:49.945050",
     "status": "completed"
    },
    "tags": []
   },
   "outputs": [
    {
     "name": "stdout",
     "output_type": "stream",
     "text": [
      "Existing Customer    8500\n",
      "Attrited Customer    1627\n",
      "Name: Attrition_Flag, dtype: int64\n",
      "F    5358\n",
      "M    4769\n",
      "Name: Gender, dtype: int64\n",
      "Graduate         3128\n",
      "High School      2013\n",
      "Unknown          1519\n",
      "Uneducated       1487\n",
      "College          1013\n",
      "Post-Graduate     516\n",
      "Doctorate         451\n",
      "Name: Education_Level, dtype: int64\n",
      "Married     4687\n",
      "Single      3943\n",
      "Unknown      749\n",
      "Divorced     748\n",
      "Name: Marital_Status, dtype: int64\n",
      "Less than $40K    3561\n",
      "$40K - $60K       1790\n",
      "$80K - $120K      1535\n",
      "$60K - $80K       1402\n",
      "Unknown           1112\n",
      "$120K +            727\n",
      "Name: Income_Category, dtype: int64\n",
      "Blue        9436\n",
      "Silver       555\n",
      "Gold         116\n",
      "Platinum      20\n",
      "Name: Card_Category, dtype: int64\n"
     ]
    }
   ],
   "source": [
    "for i in df_obj.columns:\n",
    "    print(df_obj[i].value_counts())\n",
    "    \n",
    "\n",
    "\n"
   ]
  },
  {
   "cell_type": "code",
   "execution_count": 11,
   "metadata": {
    "execution": {
     "iopub.execute_input": "2020-12-26T09:28:50.111116Z",
     "iopub.status.busy": "2020-12-26T09:28:50.104864Z",
     "iopub.status.idle": "2020-12-26T09:28:51.464642Z",
     "shell.execute_reply": "2020-12-26T09:28:51.463555Z"
    },
    "papermill": {
     "duration": 1.410722,
     "end_time": "2020-12-26T09:28:51.464779",
     "exception": false,
     "start_time": "2020-12-26T09:28:50.054057",
     "status": "completed"
    },
    "tags": []
   },
   "outputs": [
    {
     "data": {
      "text/plain": [
       "<matplotlib.axes._subplots.AxesSubplot at 0x7f83799fed90>"
      ]
     },
     "execution_count": 11,
     "metadata": {},
     "output_type": "execute_result"
    },
    {
     "data": {
      "image/png": "[encoded data removed]",
      "text/plain": [
       "<Figure size 1296x720 with 6 Axes>"
      ]
     },
     "metadata": {
      "needs_background": "light"
     },
     "output_type": "display_data"
    }
   ],
   "source": [
    "# lets analyse it with the help of graph\n",
    "fig, axes = plt.subplots(3, 2, figsize=(18, 10))\n",
    "\n",
    "fig.suptitle('countplot')\n",
    "\n",
    "sns.countplot(ax=axes[0, 0],x=df_obj['Gender'],hue=df_obj['Attrition_Flag'])\n",
    "sns.countplot(ax=axes[0, 1], x=df_obj['Marital_Status'],hue=df_obj['Attrition_Flag'])\n",
    "sns.countplot(ax=axes[1, 0], x=df_obj['Education_Level'],hue=df_obj['Attrition_Flag'])\n",
    "sns.countplot(ax=axes[1, 1], x=df_obj['Income_Category'],hue=df_obj['Attrition_Flag'])\n",
    "sns.countplot(ax=axes[2, 0], x=df_obj['Card_Category'],hue=df_obj['Attrition_Flag'])\n",
    "sns.countplot(ax=axes[2, 1], x=df_obj['Attrition_Flag'],hue=df_obj['Attrition_Flag'])\n",
    "\n",
    "\n"
   ]
  },
  {
   "cell_type": "markdown",
   "metadata": {
    "papermill": {
     "duration": 0.041525,
     "end_time": "2020-12-26T09:28:51.548694",
     "exception": false,
     "start_time": "2020-12-26T09:28:51.507169",
     "status": "completed"
    },
    "tags": []
   },
   "source": [
    "from the above graph we can conclude the following points:\n",
    "* females own more credit card than male\n",
    "* Married people takes the more credit card\n",
    "* mostly people are graduate \n",
    "* most people have salary less than 40k \n",
    "* almost 90% people have Blue Card\n",
    "\n",
    "And last point is what we have to predict who will gonna leave services in Future."
   ]
  },
  {
   "cell_type": "code",
   "execution_count": 12,
   "metadata": {
    "execution": {
     "iopub.execute_input": "2020-12-26T09:28:51.639639Z",
     "iopub.status.busy": "2020-12-26T09:28:51.638747Z",
     "iopub.status.idle": "2020-12-26T09:28:51.664651Z",
     "shell.execute_reply": "2020-12-26T09:28:51.665199Z"
    },
    "papermill": {
     "duration": 0.076579,
     "end_time": "2020-12-26T09:28:51.665366",
     "exception": false,
     "start_time": "2020-12-26T09:28:51.588787",
     "status": "completed"
    },
    "tags": []
   },
   "outputs": [
    {
     "name": "stderr",
     "output_type": "stream",
     "text": [
      "/opt/conda/lib/python3.7/site-packages/pandas/core/frame.py:4174: SettingWithCopyWarning: \n",
      "A value is trying to be set on a copy of a slice from a DataFrame\n",
      "\n",
      "See the caveats in the documentation: https://pandas.pydata.org/pandas-docs/stable/user_guide/indexing.html#returning-a-view-versus-a-copy\n",
      "  errors=errors,\n"
     ]
    },
    {
     "data": {
      "text/html": [
       "<div>\n",
       "<style scoped>\n",
       "    .dataframe tbody tr th:only-of-type {\n",
       "        vertical-align: middle;\n",
       "    }\n",
       "\n",
       "    .dataframe tbody tr th {\n",
       "        vertical-align: top;\n",
       "    }\n",
       "\n",
       "    .dataframe thead th {\n",
       "        text-align: right;\n",
       "    }\n",
       "</style>\n",
       "<table border=\"1\" class=\"dataframe\">\n",
       "  <thead>\n",
       "    <tr style=\"text-align: right;\">\n",
       "      <th></th>\n",
       "      <th>Customer_Age</th>\n",
       "      <th>Dependent_count</th>\n",
       "      <th>Months_on_book</th>\n",
       "      <th>Total_Relationship_Count</th>\n",
       "      <th>Months_Inactive_12_mon</th>\n",
       "      <th>Contacts_Count_12_mon</th>\n",
       "      <th>Credit_Limit</th>\n",
       "      <th>Total_Revolving_Bal</th>\n",
       "      <th>Avg_Open_To_Buy</th>\n",
       "      <th>Total_Amt_Chng_Q4_Q1</th>\n",
       "      <th>Total_Trans_Amt</th>\n",
       "      <th>Total_Trans_Ct</th>\n",
       "      <th>Total_Ct_Chng_Q4_Q1</th>\n",
       "      <th>Avg_Utilization_Ratio</th>\n",
       "    </tr>\n",
       "  </thead>\n",
       "  <tbody>\n",
       "    <tr>\n",
       "      <th>0</th>\n",
       "      <td>45</td>\n",
       "      <td>3</td>\n",
       "      <td>39</td>\n",
       "      <td>5</td>\n",
       "      <td>1</td>\n",
       "      <td>3</td>\n",
       "      <td>12691.0</td>\n",
       "      <td>777</td>\n",
       "      <td>11914.0</td>\n",
       "      <td>1.335</td>\n",
       "      <td>1144</td>\n",
       "      <td>42</td>\n",
       "      <td>1.625</td>\n",
       "      <td>0.061</td>\n",
       "    </tr>\n",
       "    <tr>\n",
       "      <th>1</th>\n",
       "      <td>49</td>\n",
       "      <td>5</td>\n",
       "      <td>44</td>\n",
       "      <td>6</td>\n",
       "      <td>1</td>\n",
       "      <td>2</td>\n",
       "      <td>8256.0</td>\n",
       "      <td>864</td>\n",
       "      <td>7392.0</td>\n",
       "      <td>1.541</td>\n",
       "      <td>1291</td>\n",
       "      <td>33</td>\n",
       "      <td>3.714</td>\n",
       "      <td>0.105</td>\n",
       "    </tr>\n",
       "    <tr>\n",
       "      <th>2</th>\n",
       "      <td>51</td>\n",
       "      <td>3</td>\n",
       "      <td>36</td>\n",
       "      <td>4</td>\n",
       "      <td>1</td>\n",
       "      <td>0</td>\n",
       "      <td>3418.0</td>\n",
       "      <td>0</td>\n",
       "      <td>3418.0</td>\n",
       "      <td>2.594</td>\n",
       "      <td>1887</td>\n",
       "      <td>20</td>\n",
       "      <td>2.333</td>\n",
       "      <td>0.000</td>\n",
       "    </tr>\n",
       "    <tr>\n",
       "      <th>3</th>\n",
       "      <td>40</td>\n",
       "      <td>4</td>\n",
       "      <td>34</td>\n",
       "      <td>3</td>\n",
       "      <td>4</td>\n",
       "      <td>1</td>\n",
       "      <td>3313.0</td>\n",
       "      <td>2517</td>\n",
       "      <td>796.0</td>\n",
       "      <td>1.405</td>\n",
       "      <td>1171</td>\n",
       "      <td>20</td>\n",
       "      <td>2.333</td>\n",
       "      <td>0.760</td>\n",
       "    </tr>\n",
       "    <tr>\n",
       "      <th>4</th>\n",
       "      <td>40</td>\n",
       "      <td>3</td>\n",
       "      <td>21</td>\n",
       "      <td>5</td>\n",
       "      <td>1</td>\n",
       "      <td>0</td>\n",
       "      <td>4716.0</td>\n",
       "      <td>0</td>\n",
       "      <td>4716.0</td>\n",
       "      <td>2.175</td>\n",
       "      <td>816</td>\n",
       "      <td>28</td>\n",
       "      <td>2.500</td>\n",
       "      <td>0.000</td>\n",
       "    </tr>\n",
       "  </tbody>\n",
       "</table>\n",
       "</div>"
      ],
      "text/plain": [
       "   Customer_Age  Dependent_count  Months_on_book  Total_Relationship_Count  \\\n",
       "0            45                3              39                         5   \n",
       "1            49                5              44                         6   \n",
       "2            51                3              36                         4   \n",
       "3            40                4              34                         3   \n",
       "4            40                3              21                         5   \n",
       "\n",
       "   Months_Inactive_12_mon  Contacts_Count_12_mon  Credit_Limit  \\\n",
       "0                       1                      3       12691.0   \n",
       "1                       1                      2        8256.0   \n",
       "2                       1                      0        3418.0   \n",
       "3                       4                      1        3313.0   \n",
       "4                       1                      0        4716.0   \n",
       "\n",
       "   Total_Revolving_Bal  Avg_Open_To_Buy  Total_Amt_Chng_Q4_Q1  \\\n",
       "0                  777          11914.0                 1.335   \n",
       "1                  864           7392.0                 1.541   \n",
       "2                    0           3418.0                 2.594   \n",
       "3                 2517            796.0                 1.405   \n",
       "4                    0           4716.0                 2.175   \n",
       "\n",
       "   Total_Trans_Amt  Total_Trans_Ct  Total_Ct_Chng_Q4_Q1  Avg_Utilization_Ratio  \n",
       "0             1144              42                1.625                  0.061  \n",
       "1             1291              33                3.714                  0.105  \n",
       "2             1887              20                2.333                  0.000  \n",
       "3             1171              20                2.333                  0.760  \n",
       "4              816              28                2.500                  0.000  "
      ]
     },
     "execution_count": 12,
     "metadata": {},
     "output_type": "execute_result"
    }
   ],
   "source": [
    "\n",
    "# dropping CLIENTNUM which is unique id so its not useful at all\n",
    "df_numr.drop('CLIENTNUM',axis=1,inplace=True)\n",
    "# now we gonna analyse numerical feature\n",
    "df_numr.head()"
   ]
  },
  {
   "cell_type": "code",
   "execution_count": 13,
   "metadata": {
    "execution": {
     "iopub.execute_input": "2020-12-26T09:28:51.756400Z",
     "iopub.status.busy": "2020-12-26T09:28:51.755638Z",
     "iopub.status.idle": "2020-12-26T09:28:52.779502Z",
     "shell.execute_reply": "2020-12-26T09:28:52.780075Z"
    },
    "papermill": {
     "duration": 1.073645,
     "end_time": "2020-12-26T09:28:52.780243",
     "exception": false,
     "start_time": "2020-12-26T09:28:51.706598",
     "status": "completed"
    },
    "tags": []
   },
   "outputs": [
    {
     "data": {
      "text/plain": [
       "<matplotlib.axes._subplots.AxesSubplot at 0x7f8379855fd0>"
      ]
     },
     "execution_count": 13,
     "metadata": {},
     "output_type": "execute_result"
    },
    {
     "data": {
      "image/png": "[encoded data removed]",
      "text/plain": [
       "<Figure size 1296x720 with 2 Axes>"
      ]
     },
     "metadata": {
      "needs_background": "light"
     },
     "output_type": "display_data"
    }
   ],
   "source": [
    "# now we will chevck if features are correlated\n",
    "df_numr.corr()\n",
    "\n",
    "# pretty difficult to understand..not a problem we create visualization for it\n",
    "fig, ax = plt.subplots()\n",
    "# the size of A4 paper\n",
    "fig.set_size_inches(18,10)\n",
    "\n",
    "sns.heatmap(df_numr.corr(), annot = True, vmin=-1, vmax=1, center= 0, cmap= 'coolwarm', linewidths=3, linecolor='black',ax=ax)"
   ]
  },
  {
   "cell_type": "markdown",
   "metadata": {
    "papermill": {
     "duration": 0.046112,
     "end_time": "2020-12-26T09:28:52.872925",
     "exception": false,
     "start_time": "2020-12-26T09:28:52.826813",
     "status": "completed"
    },
    "tags": []
   },
   "source": [
    "# WHY correlation matrix\n",
    "as we can see from above graph that many feature are highly correletaed to each other which means that increasing a also increase b... they have almost several feature. so it is important for us to drop highly correlated feature\n",
    "which we gonna perform in feature selection process."
   ]
  },
  {
   "cell_type": "code",
   "execution_count": 14,
   "metadata": {
    "execution": {
     "iopub.execute_input": "2020-12-26T09:28:52.975989Z",
     "iopub.status.busy": "2020-12-26T09:28:52.974939Z",
     "iopub.status.idle": "2020-12-26T09:28:53.421593Z",
     "shell.execute_reply": "2020-12-26T09:28:53.420785Z"
    },
    "papermill": {
     "duration": 0.502304,
     "end_time": "2020-12-26T09:28:53.421732",
     "exception": false,
     "start_time": "2020-12-26T09:28:52.919428",
     "status": "completed"
    },
    "tags": []
   },
   "outputs": [
    {
     "data": {
      "text/plain": [
       "<matplotlib.axes._subplots.AxesSubplot at 0x7f837954e850>"
      ]
     },
     "execution_count": 14,
     "metadata": {},
     "output_type": "execute_result"
    },
    {
     "data": {
      "image/png": "[encoded data removed]",
      "text/plain": [
       "<Figure size 1296x720 with 4 Axes>"
      ]
     },
     "metadata": {
      "needs_background": "light"
     },
     "output_type": "display_data"
    }
   ],
   "source": [
    "#lets analyse some important numerical feature\n",
    "fig, axes = plt.subplots(2, 2, figsize=(18, 10))\n",
    "\n",
    "fig.suptitle('countplot')\n",
    "\n",
    "sns.boxplot(ax=axes[0][0],y=df_numr['Customer_Age'])\n",
    "sns.boxplot(ax=axes[0][1],y=df_numr['Dependent_count'])\n",
    "sns.boxplot(ax=axes[1][0],y=df_numr['Credit_Limit'])\n",
    "sns.boxplot(ax=axes[1][1],y=df_numr['Avg_Utilization_Ratio'])"
   ]
  },
  {
   "cell_type": "markdown",
   "metadata": {
    "papermill": {
     "duration": 0.046916,
     "end_time": "2020-12-26T09:28:53.516037",
     "exception": false,
     "start_time": "2020-12-26T09:28:53.469121",
     "status": "completed"
    },
    "tags": []
   },
   "source": [
    "**AS we can see from above that the data contains outliers in some feature... lets see hoe to solve this problem**"
   ]
  },
  {
   "cell_type": "markdown",
   "metadata": {
    "papermill": {
     "duration": 0.055791,
     "end_time": "2020-12-26T09:28:53.619005",
     "exception": false,
     "start_time": "2020-12-26T09:28:53.563214",
     "status": "completed"
    },
    "tags": []
   },
   "source": [
    "### So we are done with DAta Analysis phase.now we are ready to move further."
   ]
  },
  {
   "cell_type": "markdown",
   "metadata": {
    "papermill": {
     "duration": 0.04763,
     "end_time": "2020-12-26T09:28:53.769288",
     "exception": false,
     "start_time": "2020-12-26T09:28:53.721658",
     "status": "completed"
    },
    "tags": []
   },
   "source": [
    "<h1 style=\"text-align:center;\">Feature Engineering And Data Preprocessing</h1>"
   ]
  },
  {
   "cell_type": "code",
   "execution_count": 15,
   "metadata": {
    "execution": {
     "iopub.execute_input": "2020-12-26T09:28:53.885206Z",
     "iopub.status.busy": "2020-12-26T09:28:53.884498Z",
     "iopub.status.idle": "2020-12-26T09:28:53.906896Z",
     "shell.execute_reply": "2020-12-26T09:28:53.906095Z"
    },
    "papermill": {
     "duration": 0.082594,
     "end_time": "2020-12-26T09:28:53.907062",
     "exception": false,
     "start_time": "2020-12-26T09:28:53.824468",
     "status": "completed"
    },
    "tags": []
   },
   "outputs": [
    {
     "name": "stderr",
     "output_type": "stream",
     "text": [
      "/opt/conda/lib/python3.7/site-packages/pandas/core/frame.py:4174: SettingWithCopyWarning: \n",
      "A value is trying to be set on a copy of a slice from a DataFrame\n",
      "\n",
      "See the caveats in the documentation: https://pandas.pydata.org/pandas-docs/stable/user_guide/indexing.html#returning-a-view-versus-a-copy\n",
      "  errors=errors,\n"
     ]
    }
   ],
   "source": [
    "# as we already know that some of the features in our dataset are highly correleated...so it is better practice\n",
    "# for us to drop those feature\n",
    "correlated_features = set()\n",
    "correlation_matrix = df_numr.corr()\n",
    "# we gonna drop feature which have pearson coffecirnts greater than 0.6\n",
    "for i in range(len(correlation_matrix .columns)):\n",
    "    for j in range(i):\n",
    "        if abs(correlation_matrix.iloc[i, j]) > 0.6:\n",
    "            colname = correlation_matrix.columns[i]\n",
    "            correlated_features.add(colname)\n",
    "            \n",
    "df_numr.drop(labels=correlated_features, axis=1, inplace=True)"
   ]
  },
  {
   "cell_type": "markdown",
   "metadata": {
    "papermill": {
     "duration": 0.048886,
     "end_time": "2020-12-26T09:28:54.004215",
     "exception": false,
     "start_time": "2020-12-26T09:28:53.955329",
     "status": "completed"
    },
    "tags": []
   },
   "source": []
  },
  {
   "cell_type": "code",
   "execution_count": 16,
   "metadata": {
    "execution": {
     "iopub.execute_input": "2020-12-26T09:28:54.108017Z",
     "iopub.status.busy": "2020-12-26T09:28:54.107233Z",
     "iopub.status.idle": "2020-12-26T09:28:54.152048Z",
     "shell.execute_reply": "2020-12-26T09:28:54.152578Z"
    },
    "papermill": {
     "duration": 0.098965,
     "end_time": "2020-12-26T09:28:54.152740",
     "exception": false,
     "start_time": "2020-12-26T09:28:54.053775",
     "status": "completed"
    },
    "tags": []
   },
   "outputs": [
    {
     "data": {
      "text/html": [
       "<div>\n",
       "<style scoped>\n",
       "    .dataframe tbody tr th:only-of-type {\n",
       "        vertical-align: middle;\n",
       "    }\n",
       "\n",
       "    .dataframe tbody tr th {\n",
       "        vertical-align: top;\n",
       "    }\n",
       "\n",
       "    .dataframe thead th {\n",
       "        text-align: right;\n",
       "    }\n",
       "</style>\n",
       "<table border=\"1\" class=\"dataframe\">\n",
       "  <thead>\n",
       "    <tr style=\"text-align: right;\">\n",
       "      <th></th>\n",
       "      <th>Gender_M</th>\n",
       "      <th>Education_Level_Doctorate</th>\n",
       "      <th>Education_Level_Graduate</th>\n",
       "      <th>Education_Level_High School</th>\n",
       "      <th>Education_Level_Post-Graduate</th>\n",
       "      <th>Education_Level_Uneducated</th>\n",
       "      <th>Education_Level_Unknown</th>\n",
       "      <th>Marital_Status_Married</th>\n",
       "      <th>Marital_Status_Single</th>\n",
       "      <th>Marital_Status_Unknown</th>\n",
       "      <th>Income_Category_$40K - $60K</th>\n",
       "      <th>Income_Category_$60K - $80K</th>\n",
       "      <th>Income_Category_$80K - $120K</th>\n",
       "      <th>Income_Category_Less than $40K</th>\n",
       "      <th>Income_Category_Unknown</th>\n",
       "      <th>Card_Category_Gold</th>\n",
       "      <th>Card_Category_Platinum</th>\n",
       "      <th>Card_Category_Silver</th>\n",
       "    </tr>\n",
       "  </thead>\n",
       "  <tbody>\n",
       "    <tr>\n",
       "      <th>0</th>\n",
       "      <td>1</td>\n",
       "      <td>0</td>\n",
       "      <td>0</td>\n",
       "      <td>1</td>\n",
       "      <td>0</td>\n",
       "      <td>0</td>\n",
       "      <td>0</td>\n",
       "      <td>1</td>\n",
       "      <td>0</td>\n",
       "      <td>0</td>\n",
       "      <td>0</td>\n",
       "      <td>1</td>\n",
       "      <td>0</td>\n",
       "      <td>0</td>\n",
       "      <td>0</td>\n",
       "      <td>0</td>\n",
       "      <td>0</td>\n",
       "      <td>0</td>\n",
       "    </tr>\n",
       "    <tr>\n",
       "      <th>1</th>\n",
       "      <td>0</td>\n",
       "      <td>0</td>\n",
       "      <td>1</td>\n",
       "      <td>0</td>\n",
       "      <td>0</td>\n",
       "      <td>0</td>\n",
       "      <td>0</td>\n",
       "      <td>0</td>\n",
       "      <td>1</td>\n",
       "      <td>0</td>\n",
       "      <td>0</td>\n",
       "      <td>0</td>\n",
       "      <td>0</td>\n",
       "      <td>1</td>\n",
       "      <td>0</td>\n",
       "      <td>0</td>\n",
       "      <td>0</td>\n",
       "      <td>0</td>\n",
       "    </tr>\n",
       "    <tr>\n",
       "      <th>2</th>\n",
       "      <td>1</td>\n",
       "      <td>0</td>\n",
       "      <td>1</td>\n",
       "      <td>0</td>\n",
       "      <td>0</td>\n",
       "      <td>0</td>\n",
       "      <td>0</td>\n",
       "      <td>1</td>\n",
       "      <td>0</td>\n",
       "      <td>0</td>\n",
       "      <td>0</td>\n",
       "      <td>0</td>\n",
       "      <td>1</td>\n",
       "      <td>0</td>\n",
       "      <td>0</td>\n",
       "      <td>0</td>\n",
       "      <td>0</td>\n",
       "      <td>0</td>\n",
       "    </tr>\n",
       "    <tr>\n",
       "      <th>3</th>\n",
       "      <td>0</td>\n",
       "      <td>0</td>\n",
       "      <td>0</td>\n",
       "      <td>1</td>\n",
       "      <td>0</td>\n",
       "      <td>0</td>\n",
       "      <td>0</td>\n",
       "      <td>0</td>\n",
       "      <td>0</td>\n",
       "      <td>1</td>\n",
       "      <td>0</td>\n",
       "      <td>0</td>\n",
       "      <td>0</td>\n",
       "      <td>1</td>\n",
       "      <td>0</td>\n",
       "      <td>0</td>\n",
       "      <td>0</td>\n",
       "      <td>0</td>\n",
       "    </tr>\n",
       "    <tr>\n",
       "      <th>4</th>\n",
       "      <td>1</td>\n",
       "      <td>0</td>\n",
       "      <td>0</td>\n",
       "      <td>0</td>\n",
       "      <td>0</td>\n",
       "      <td>1</td>\n",
       "      <td>0</td>\n",
       "      <td>1</td>\n",
       "      <td>0</td>\n",
       "      <td>0</td>\n",
       "      <td>0</td>\n",
       "      <td>1</td>\n",
       "      <td>0</td>\n",
       "      <td>0</td>\n",
       "      <td>0</td>\n",
       "      <td>0</td>\n",
       "      <td>0</td>\n",
       "      <td>0</td>\n",
       "    </tr>\n",
       "    <tr>\n",
       "      <th>...</th>\n",
       "      <td>...</td>\n",
       "      <td>...</td>\n",
       "      <td>...</td>\n",
       "      <td>...</td>\n",
       "      <td>...</td>\n",
       "      <td>...</td>\n",
       "      <td>...</td>\n",
       "      <td>...</td>\n",
       "      <td>...</td>\n",
       "      <td>...</td>\n",
       "      <td>...</td>\n",
       "      <td>...</td>\n",
       "      <td>...</td>\n",
       "      <td>...</td>\n",
       "      <td>...</td>\n",
       "      <td>...</td>\n",
       "      <td>...</td>\n",
       "      <td>...</td>\n",
       "    </tr>\n",
       "    <tr>\n",
       "      <th>10122</th>\n",
       "      <td>1</td>\n",
       "      <td>0</td>\n",
       "      <td>1</td>\n",
       "      <td>0</td>\n",
       "      <td>0</td>\n",
       "      <td>0</td>\n",
       "      <td>0</td>\n",
       "      <td>0</td>\n",
       "      <td>1</td>\n",
       "      <td>0</td>\n",
       "      <td>1</td>\n",
       "      <td>0</td>\n",
       "      <td>0</td>\n",
       "      <td>0</td>\n",
       "      <td>0</td>\n",
       "      <td>0</td>\n",
       "      <td>0</td>\n",
       "      <td>0</td>\n",
       "    </tr>\n",
       "    <tr>\n",
       "      <th>10123</th>\n",
       "      <td>1</td>\n",
       "      <td>0</td>\n",
       "      <td>0</td>\n",
       "      <td>0</td>\n",
       "      <td>0</td>\n",
       "      <td>0</td>\n",
       "      <td>1</td>\n",
       "      <td>0</td>\n",
       "      <td>0</td>\n",
       "      <td>0</td>\n",
       "      <td>1</td>\n",
       "      <td>0</td>\n",
       "      <td>0</td>\n",
       "      <td>0</td>\n",
       "      <td>0</td>\n",
       "      <td>0</td>\n",
       "      <td>0</td>\n",
       "      <td>0</td>\n",
       "    </tr>\n",
       "    <tr>\n",
       "      <th>10124</th>\n",
       "      <td>0</td>\n",
       "      <td>0</td>\n",
       "      <td>0</td>\n",
       "      <td>1</td>\n",
       "      <td>0</td>\n",
       "      <td>0</td>\n",
       "      <td>0</td>\n",
       "      <td>1</td>\n",
       "      <td>0</td>\n",
       "      <td>0</td>\n",
       "      <td>0</td>\n",
       "      <td>0</td>\n",
       "      <td>0</td>\n",
       "      <td>1</td>\n",
       "      <td>0</td>\n",
       "      <td>0</td>\n",
       "      <td>0</td>\n",
       "      <td>0</td>\n",
       "    </tr>\n",
       "    <tr>\n",
       "      <th>10125</th>\n",
       "      <td>1</td>\n",
       "      <td>0</td>\n",
       "      <td>1</td>\n",
       "      <td>0</td>\n",
       "      <td>0</td>\n",
       "      <td>0</td>\n",
       "      <td>0</td>\n",
       "      <td>0</td>\n",
       "      <td>0</td>\n",
       "      <td>1</td>\n",
       "      <td>1</td>\n",
       "      <td>0</td>\n",
       "      <td>0</td>\n",
       "      <td>0</td>\n",
       "      <td>0</td>\n",
       "      <td>0</td>\n",
       "      <td>0</td>\n",
       "      <td>0</td>\n",
       "    </tr>\n",
       "    <tr>\n",
       "      <th>10126</th>\n",
       "      <td>0</td>\n",
       "      <td>0</td>\n",
       "      <td>1</td>\n",
       "      <td>0</td>\n",
       "      <td>0</td>\n",
       "      <td>0</td>\n",
       "      <td>0</td>\n",
       "      <td>1</td>\n",
       "      <td>0</td>\n",
       "      <td>0</td>\n",
       "      <td>0</td>\n",
       "      <td>0</td>\n",
       "      <td>0</td>\n",
       "      <td>1</td>\n",
       "      <td>0</td>\n",
       "      <td>0</td>\n",
       "      <td>0</td>\n",
       "      <td>1</td>\n",
       "    </tr>\n",
       "  </tbody>\n",
       "</table>\n",
       "<p>10127 rows × 18 columns</p>\n",
       "</div>"
      ],
      "text/plain": [
       "       Gender_M  Education_Level_Doctorate  Education_Level_Graduate  \\\n",
       "0             1                          0                         0   \n",
       "1             0                          0                         1   \n",
       "2             1                          0                         1   \n",
       "3             0                          0                         0   \n",
       "4             1                          0                         0   \n",
       "...         ...                        ...                       ...   \n",
       "10122         1                          0                         1   \n",
       "10123         1                          0                         0   \n",
       "10124         0                          0                         0   \n",
       "10125         1                          0                         1   \n",
       "10126         0                          0                         1   \n",
       "\n",
       "       Education_Level_High School  Education_Level_Post-Graduate  \\\n",
       "0                                1                              0   \n",
       "1                                0                              0   \n",
       "2                                0                              0   \n",
       "3                                1                              0   \n",
       "4                                0                              0   \n",
       "...                            ...                            ...   \n",
       "10122                            0                              0   \n",
       "10123                            0                              0   \n",
       "10124                            1                              0   \n",
       "10125                            0                              0   \n",
       "10126                            0                              0   \n",
       "\n",
       "       Education_Level_Uneducated  Education_Level_Unknown  \\\n",
       "0                               0                        0   \n",
       "1                               0                        0   \n",
       "2                               0                        0   \n",
       "3                               0                        0   \n",
       "4                               1                        0   \n",
       "...                           ...                      ...   \n",
       "10122                           0                        0   \n",
       "10123                           0                        1   \n",
       "10124                           0                        0   \n",
       "10125                           0                        0   \n",
       "10126                           0                        0   \n",
       "\n",
       "       Marital_Status_Married  Marital_Status_Single  Marital_Status_Unknown  \\\n",
       "0                           1                      0                       0   \n",
       "1                           0                      1                       0   \n",
       "2                           1                      0                       0   \n",
       "3                           0                      0                       1   \n",
       "4                           1                      0                       0   \n",
       "...                       ...                    ...                     ...   \n",
       "10122                       0                      1                       0   \n",
       "10123                       0                      0                       0   \n",
       "10124                       1                      0                       0   \n",
       "10125                       0                      0                       1   \n",
       "10126                       1                      0                       0   \n",
       "\n",
       "       Income_Category_$40K - $60K  Income_Category_$60K - $80K  \\\n",
       "0                                0                            1   \n",
       "1                                0                            0   \n",
       "2                                0                            0   \n",
       "3                                0                            0   \n",
       "4                                0                            1   \n",
       "...                            ...                          ...   \n",
       "10122                            1                            0   \n",
       "10123                            1                            0   \n",
       "10124                            0                            0   \n",
       "10125                            1                            0   \n",
       "10126                            0                            0   \n",
       "\n",
       "       Income_Category_$80K - $120K  Income_Category_Less than $40K  \\\n",
       "0                                 0                               0   \n",
       "1                                 0                               1   \n",
       "2                                 1                               0   \n",
       "3                                 0                               1   \n",
       "4                                 0                               0   \n",
       "...                             ...                             ...   \n",
       "10122                             0                               0   \n",
       "10123                             0                               0   \n",
       "10124                             0                               1   \n",
       "10125                             0                               0   \n",
       "10126                             0                               1   \n",
       "\n",
       "       Income_Category_Unknown  Card_Category_Gold  Card_Category_Platinum  \\\n",
       "0                            0                   0                       0   \n",
       "1                            0                   0                       0   \n",
       "2                            0                   0                       0   \n",
       "3                            0                   0                       0   \n",
       "4                            0                   0                       0   \n",
       "...                        ...                 ...                     ...   \n",
       "10122                        0                   0                       0   \n",
       "10123                        0                   0                       0   \n",
       "10124                        0                   0                       0   \n",
       "10125                        0                   0                       0   \n",
       "10126                        0                   0                       0   \n",
       "\n",
       "       Card_Category_Silver  \n",
       "0                         0  \n",
       "1                         0  \n",
       "2                         0  \n",
       "3                         0  \n",
       "4                         0  \n",
       "...                     ...  \n",
       "10122                     0  \n",
       "10123                     0  \n",
       "10124                     0  \n",
       "10125                     0  \n",
       "10126                     1  \n",
       "\n",
       "[10127 rows x 18 columns]"
      ]
     },
     "execution_count": 16,
     "metadata": {},
     "output_type": "execute_result"
    }
   ],
   "source": [
    "# one hot encoding of object category data\n",
    "obj_data=pd.get_dummies(df_obj.drop(columns=['Attrition_Flag']),drop_first=True)\n",
    "obj_data"
   ]
  },
  {
   "cell_type": "markdown",
   "metadata": {
    "papermill": {
     "duration": 0.049736,
     "end_time": "2020-12-26T09:28:54.252152",
     "exception": false,
     "start_time": "2020-12-26T09:28:54.202416",
     "status": "completed"
    },
    "tags": []
   },
   "source": [
    "Allright pretty good we have reduced our feature.... to avoid the complex model...still it contains lots of feature."
   ]
  },
  {
   "cell_type": "code",
   "execution_count": 17,
   "metadata": {
    "execution": {
     "iopub.execute_input": "2020-12-26T09:28:54.362296Z",
     "iopub.status.busy": "2020-12-26T09:28:54.357321Z",
     "iopub.status.idle": "2020-12-26T09:28:54.383348Z",
     "shell.execute_reply": "2020-12-26T09:28:54.383975Z"
    },
    "papermill": {
     "duration": 0.082896,
     "end_time": "2020-12-26T09:28:54.384149",
     "exception": false,
     "start_time": "2020-12-26T09:28:54.301253",
     "status": "completed"
    },
    "tags": []
   },
   "outputs": [
    {
     "data": {
      "text/html": [
       "<div>\n",
       "<style scoped>\n",
       "    .dataframe tbody tr th:only-of-type {\n",
       "        vertical-align: middle;\n",
       "    }\n",
       "\n",
       "    .dataframe tbody tr th {\n",
       "        vertical-align: top;\n",
       "    }\n",
       "\n",
       "    .dataframe thead th {\n",
       "        text-align: right;\n",
       "    }\n",
       "</style>\n",
       "<table border=\"1\" class=\"dataframe\">\n",
       "  <thead>\n",
       "    <tr style=\"text-align: right;\">\n",
       "      <th></th>\n",
       "      <th>Gender_M</th>\n",
       "      <th>Education_Level_Doctorate</th>\n",
       "      <th>Education_Level_Graduate</th>\n",
       "      <th>Education_Level_High School</th>\n",
       "      <th>Education_Level_Post-Graduate</th>\n",
       "      <th>Education_Level_Uneducated</th>\n",
       "      <th>Education_Level_Unknown</th>\n",
       "      <th>Marital_Status_Married</th>\n",
       "      <th>Marital_Status_Single</th>\n",
       "      <th>Marital_Status_Unknown</th>\n",
       "      <th>...</th>\n",
       "      <th>Customer_Age</th>\n",
       "      <th>Dependent_count</th>\n",
       "      <th>Total_Relationship_Count</th>\n",
       "      <th>Months_Inactive_12_mon</th>\n",
       "      <th>Contacts_Count_12_mon</th>\n",
       "      <th>Credit_Limit</th>\n",
       "      <th>Total_Revolving_Bal</th>\n",
       "      <th>Total_Amt_Chng_Q4_Q1</th>\n",
       "      <th>Total_Trans_Amt</th>\n",
       "      <th>Total_Ct_Chng_Q4_Q1</th>\n",
       "    </tr>\n",
       "  </thead>\n",
       "  <tbody>\n",
       "    <tr>\n",
       "      <th>0</th>\n",
       "      <td>1</td>\n",
       "      <td>0</td>\n",
       "      <td>0</td>\n",
       "      <td>1</td>\n",
       "      <td>0</td>\n",
       "      <td>0</td>\n",
       "      <td>0</td>\n",
       "      <td>1</td>\n",
       "      <td>0</td>\n",
       "      <td>0</td>\n",
       "      <td>...</td>\n",
       "      <td>45</td>\n",
       "      <td>3</td>\n",
       "      <td>5</td>\n",
       "      <td>1</td>\n",
       "      <td>3</td>\n",
       "      <td>12691.0</td>\n",
       "      <td>777</td>\n",
       "      <td>1.335</td>\n",
       "      <td>1144</td>\n",
       "      <td>1.625</td>\n",
       "    </tr>\n",
       "    <tr>\n",
       "      <th>1</th>\n",
       "      <td>0</td>\n",
       "      <td>0</td>\n",
       "      <td>1</td>\n",
       "      <td>0</td>\n",
       "      <td>0</td>\n",
       "      <td>0</td>\n",
       "      <td>0</td>\n",
       "      <td>0</td>\n",
       "      <td>1</td>\n",
       "      <td>0</td>\n",
       "      <td>...</td>\n",
       "      <td>49</td>\n",
       "      <td>5</td>\n",
       "      <td>6</td>\n",
       "      <td>1</td>\n",
       "      <td>2</td>\n",
       "      <td>8256.0</td>\n",
       "      <td>864</td>\n",
       "      <td>1.541</td>\n",
       "      <td>1291</td>\n",
       "      <td>3.714</td>\n",
       "    </tr>\n",
       "    <tr>\n",
       "      <th>2</th>\n",
       "      <td>1</td>\n",
       "      <td>0</td>\n",
       "      <td>1</td>\n",
       "      <td>0</td>\n",
       "      <td>0</td>\n",
       "      <td>0</td>\n",
       "      <td>0</td>\n",
       "      <td>1</td>\n",
       "      <td>0</td>\n",
       "      <td>0</td>\n",
       "      <td>...</td>\n",
       "      <td>51</td>\n",
       "      <td>3</td>\n",
       "      <td>4</td>\n",
       "      <td>1</td>\n",
       "      <td>0</td>\n",
       "      <td>3418.0</td>\n",
       "      <td>0</td>\n",
       "      <td>2.594</td>\n",
       "      <td>1887</td>\n",
       "      <td>2.333</td>\n",
       "    </tr>\n",
       "    <tr>\n",
       "      <th>3</th>\n",
       "      <td>0</td>\n",
       "      <td>0</td>\n",
       "      <td>0</td>\n",
       "      <td>1</td>\n",
       "      <td>0</td>\n",
       "      <td>0</td>\n",
       "      <td>0</td>\n",
       "      <td>0</td>\n",
       "      <td>0</td>\n",
       "      <td>1</td>\n",
       "      <td>...</td>\n",
       "      <td>40</td>\n",
       "      <td>4</td>\n",
       "      <td>3</td>\n",
       "      <td>4</td>\n",
       "      <td>1</td>\n",
       "      <td>3313.0</td>\n",
       "      <td>2517</td>\n",
       "      <td>1.405</td>\n",
       "      <td>1171</td>\n",
       "      <td>2.333</td>\n",
       "    </tr>\n",
       "    <tr>\n",
       "      <th>4</th>\n",
       "      <td>1</td>\n",
       "      <td>0</td>\n",
       "      <td>0</td>\n",
       "      <td>0</td>\n",
       "      <td>0</td>\n",
       "      <td>1</td>\n",
       "      <td>0</td>\n",
       "      <td>1</td>\n",
       "      <td>0</td>\n",
       "      <td>0</td>\n",
       "      <td>...</td>\n",
       "      <td>40</td>\n",
       "      <td>3</td>\n",
       "      <td>5</td>\n",
       "      <td>1</td>\n",
       "      <td>0</td>\n",
       "      <td>4716.0</td>\n",
       "      <td>0</td>\n",
       "      <td>2.175</td>\n",
       "      <td>816</td>\n",
       "      <td>2.500</td>\n",
       "    </tr>\n",
       "  </tbody>\n",
       "</table>\n",
       "<p>5 rows × 28 columns</p>\n",
       "</div>"
      ],
      "text/plain": [
       "   Gender_M  Education_Level_Doctorate  Education_Level_Graduate  \\\n",
       "0         1                          0                         0   \n",
       "1         0                          0                         1   \n",
       "2         1                          0                         1   \n",
       "3         0                          0                         0   \n",
       "4         1                          0                         0   \n",
       "\n",
       "   Education_Level_High School  Education_Level_Post-Graduate  \\\n",
       "0                            1                              0   \n",
       "1                            0                              0   \n",
       "2                            0                              0   \n",
       "3                            1                              0   \n",
       "4                            0                              0   \n",
       "\n",
       "   Education_Level_Uneducated  Education_Level_Unknown  \\\n",
       "0                           0                        0   \n",
       "1                           0                        0   \n",
       "2                           0                        0   \n",
       "3                           0                        0   \n",
       "4                           1                        0   \n",
       "\n",
       "   Marital_Status_Married  Marital_Status_Single  Marital_Status_Unknown  ...  \\\n",
       "0                       1                      0                       0  ...   \n",
       "1                       0                      1                       0  ...   \n",
       "2                       1                      0                       0  ...   \n",
       "3                       0                      0                       1  ...   \n",
       "4                       1                      0                       0  ...   \n",
       "\n",
       "   Customer_Age  Dependent_count  Total_Relationship_Count  \\\n",
       "0            45                3                         5   \n",
       "1            49                5                         6   \n",
       "2            51                3                         4   \n",
       "3            40                4                         3   \n",
       "4            40                3                         5   \n",
       "\n",
       "   Months_Inactive_12_mon  Contacts_Count_12_mon  Credit_Limit  \\\n",
       "0                       1                      3       12691.0   \n",
       "1                       1                      2        8256.0   \n",
       "2                       1                      0        3418.0   \n",
       "3                       4                      1        3313.0   \n",
       "4                       1                      0        4716.0   \n",
       "\n",
       "   Total_Revolving_Bal  Total_Amt_Chng_Q4_Q1  Total_Trans_Amt  \\\n",
       "0                  777                 1.335             1144   \n",
       "1                  864                 1.541             1291   \n",
       "2                    0                 2.594             1887   \n",
       "3                 2517                 1.405             1171   \n",
       "4                    0                 2.175              816   \n",
       "\n",
       "   Total_Ct_Chng_Q4_Q1  \n",
       "0                1.625  \n",
       "1                3.714  \n",
       "2                2.333  \n",
       "3                2.333  \n",
       "4                2.500  \n",
       "\n",
       "[5 rows x 28 columns]"
      ]
     },
     "execution_count": 17,
     "metadata": {},
     "output_type": "execute_result"
    }
   ],
   "source": [
    "# joining our numr dataframe and object dataframe\n",
    "main_df=pd.concat([obj_data,df_numr],axis=1)\n",
    "main_df.head()"
   ]
  },
  {
   "cell_type": "code",
   "execution_count": 18,
   "metadata": {
    "execution": {
     "iopub.execute_input": "2020-12-26T09:28:54.488094Z",
     "iopub.status.busy": "2020-12-26T09:28:54.487386Z",
     "iopub.status.idle": "2020-12-26T09:28:54.493974Z",
     "shell.execute_reply": "2020-12-26T09:28:54.494521Z"
    },
    "papermill": {
     "duration": 0.060352,
     "end_time": "2020-12-26T09:28:54.494677",
     "exception": false,
     "start_time": "2020-12-26T09:28:54.434325",
     "status": "completed"
    },
    "tags": []
   },
   "outputs": [],
   "source": [
    "# splitting dependent and independent feature \n",
    "Y=pd.get_dummies(df_obj['Attrition_Flag'],drop_first=True)\n",
    "X=main_df"
   ]
  },
  {
   "cell_type": "code",
   "execution_count": 19,
   "metadata": {
    "execution": {
     "iopub.execute_input": "2020-12-26T09:28:54.599829Z",
     "iopub.status.busy": "2020-12-26T09:28:54.599103Z",
     "iopub.status.idle": "2020-12-26T09:28:54.604651Z",
     "shell.execute_reply": "2020-12-26T09:28:54.605299Z"
    },
    "papermill": {
     "duration": 0.060353,
     "end_time": "2020-12-26T09:28:54.605466",
     "exception": false,
     "start_time": "2020-12-26T09:28:54.545113",
     "status": "completed"
    },
    "tags": []
   },
   "outputs": [
    {
     "name": "stdout",
     "output_type": "stream",
     "text": [
      "(10127, 28)\n",
      "(10127, 1)\n"
     ]
    }
   ],
   "source": [
    "print(X.shape)\n",
    "print(Y.shape)"
   ]
  },
  {
   "cell_type": "code",
   "execution_count": 20,
   "metadata": {
    "execution": {
     "iopub.execute_input": "2020-12-26T09:28:54.717256Z",
     "iopub.status.busy": "2020-12-26T09:28:54.716522Z",
     "iopub.status.idle": "2020-12-26T09:28:55.103677Z",
     "shell.execute_reply": "2020-12-26T09:28:55.103008Z"
    },
    "papermill": {
     "duration": 0.443554,
     "end_time": "2020-12-26T09:28:55.103822",
     "exception": false,
     "start_time": "2020-12-26T09:28:54.660268",
     "status": "completed"
    },
    "tags": []
   },
   "outputs": [],
   "source": [
    "# before moving any further we have to deal with imbalanced dataset\n",
    "# there are two tecnique to do handle imbalanced dataset..oversampling and undersampling\n",
    "# if the data is too large we can perform down sampling... butr as our data is not so big we perform oversampling\n",
    "smk=SMOTETomek(random_state=42)\n",
    "xres,yres=smk.fit_sample(X,Y)"
   ]
  },
  {
   "cell_type": "code",
   "execution_count": 21,
   "metadata": {
    "execution": {
     "iopub.execute_input": "2020-12-26T09:28:55.210531Z",
     "iopub.status.busy": "2020-12-26T09:28:55.209626Z",
     "iopub.status.idle": "2020-12-26T09:28:55.217213Z",
     "shell.execute_reply": "2020-12-26T09:28:55.215204Z"
    },
    "papermill": {
     "duration": 0.06326,
     "end_time": "2020-12-26T09:28:55.217424",
     "exception": false,
     "start_time": "2020-12-26T09:28:55.154164",
     "status": "completed"
    },
    "tags": []
   },
   "outputs": [
    {
     "name": "stdout",
     "output_type": "stream",
     "text": [
      "(16448, 28) (16448, 1)\n"
     ]
    }
   ],
   "source": [
    "print(xres.shape,yres.shape)"
   ]
  },
  {
   "cell_type": "markdown",
   "metadata": {
    "papermill": {
     "duration": 0.050512,
     "end_time": "2020-12-26T09:28:55.319451",
     "exception": false,
     "start_time": "2020-12-26T09:28:55.268939",
     "status": "completed"
    },
    "tags": []
   },
   "source": [
    "Allright, as you can see now that your dataset is balanced..we are ready to move further. **HAPPY!**"
   ]
  },
  {
   "cell_type": "code",
   "execution_count": 22,
   "metadata": {
    "execution": {
     "iopub.execute_input": "2020-12-26T09:28:55.430576Z",
     "iopub.status.busy": "2020-12-26T09:28:55.429365Z",
     "iopub.status.idle": "2020-12-26T09:28:55.440234Z",
     "shell.execute_reply": "2020-12-26T09:28:55.439241Z"
    },
    "papermill": {
     "duration": 0.070087,
     "end_time": "2020-12-26T09:28:55.440419",
     "exception": false,
     "start_time": "2020-12-26T09:28:55.370332",
     "status": "completed"
    },
    "tags": []
   },
   "outputs": [
    {
     "name": "stdout",
     "output_type": "stream",
     "text": [
      "(12336, 28) (12336, 1) (4112, 28) (4112, 1)\n"
     ]
    }
   ],
   "source": [
    "# dividing dataset into training and testing set \n",
    "X_train, X_test, y_train, y_test = train_test_split(xres, yres, test_size=0.25, random_state=42)\n",
    "print(X_train.shape,y_train.shape,X_test.shape,y_test.shape)"
   ]
  },
  {
   "cell_type": "markdown",
   "metadata": {
    "papermill": {
     "duration": 0.050725,
     "end_time": "2020-12-26T09:28:55.543253",
     "exception": false,
     "start_time": "2020-12-26T09:28:55.492528",
     "status": "completed"
    },
    "tags": []
   },
   "source": [
    "<h1 style=\"text-align:center;\">MODEL BUILDING</h1>"
   ]
  },
  {
   "cell_type": "markdown",
   "metadata": {
    "papermill": {
     "duration": 0.052185,
     "end_time": "2020-12-26T09:28:55.646683",
     "exception": false,
     "start_time": "2020-12-26T09:28:55.594498",
     "status": "completed"
    },
    "tags": []
   },
   "source": [
    "model building is the easiest process in data science...there are lots of classification algorithm to go with...there is no certainity that this mdel or that model will perform model..\n",
    "we have to try different model and see which perfortms better.\n",
    "wer will go with RANDOM FOREST CLASSIFIER"
   ]
  },
  {
   "cell_type": "code",
   "execution_count": 23,
   "metadata": {
    "execution": {
     "iopub.execute_input": "2020-12-26T09:28:55.755120Z",
     "iopub.status.busy": "2020-12-26T09:28:55.754092Z",
     "iopub.status.idle": "2020-12-26T09:28:56.023069Z",
     "shell.execute_reply": "2020-12-26T09:28:56.022499Z"
    },
    "papermill": {
     "duration": 0.323794,
     "end_time": "2020-12-26T09:28:56.023198",
     "exception": false,
     "start_time": "2020-12-26T09:28:55.699404",
     "status": "completed"
    },
    "tags": []
   },
   "outputs": [
    {
     "name": "stderr",
     "output_type": "stream",
     "text": [
      "/opt/conda/lib/python3.7/site-packages/ipykernel_launcher.py:3: DataConversionWarning: A column-vector y was passed when a 1d array was expected. Please change the shape of y to (n_samples,), for example using ravel().\n",
      "  This is separate from the ipykernel package so we can avoid doing imports until\n"
     ]
    },
    {
     "data": {
      "text/plain": [
       "RandomForestClassifier(criterion='entropy', n_estimators=10, random_state=50)"
      ]
     },
     "execution_count": 23,
     "metadata": {},
     "output_type": "execute_result"
    }
   ],
   "source": [
    "#we have trained our model with some random parameter and lets see the accuracy\n",
    "classifier=RandomForestClassifier(n_estimators=10,criterion='entropy',random_state=50)\n",
    "classifier.fit(X_train,y_train)"
   ]
  },
  {
   "cell_type": "code",
   "execution_count": 24,
   "metadata": {
    "execution": {
     "iopub.execute_input": "2020-12-26T09:28:56.140348Z",
     "iopub.status.busy": "2020-12-26T09:28:56.139271Z",
     "iopub.status.idle": "2020-12-26T09:28:56.164709Z",
     "shell.execute_reply": "2020-12-26T09:28:56.164067Z"
    },
    "papermill": {
     "duration": 0.087626,
     "end_time": "2020-12-26T09:28:56.164871",
     "exception": false,
     "start_time": "2020-12-26T09:28:56.077245",
     "status": "completed"
    },
    "tags": []
   },
   "outputs": [
    {
     "name": "stdout",
     "output_type": "stream",
     "text": [
      "0.9644941634241245\n",
      "[[1978   55]\n",
      " [  91 1988]]\n"
     ]
    }
   ],
   "source": [
    "# calculating accuracy score and confusion matrix\n",
    "prediction=classifier.predict(X_test)\n",
    "print(accuracy_score(y_test,prediction))\n",
    "print(confusion_matrix(y_test,prediction))"
   ]
  },
  {
   "cell_type": "markdown",
   "metadata": {
    "papermill": {
     "duration": 0.055065,
     "end_time": "2020-12-26T09:28:56.274684",
     "exception": false,
     "start_time": "2020-12-26T09:28:56.219619",
     "status": "completed"
    },
    "tags": []
   },
   "source": [
    "**as you can see we got a pretty decent score of 96% accuracy**\n",
    "Lets tune hyperparameter to check if we increase our accuracy"
   ]
  },
  {
   "cell_type": "code",
   "execution_count": 25,
   "metadata": {
    "execution": {
     "iopub.execute_input": "2020-12-26T09:28:56.387580Z",
     "iopub.status.busy": "2020-12-26T09:28:56.386582Z",
     "iopub.status.idle": "2020-12-26T09:28:56.390654Z",
     "shell.execute_reply": "2020-12-26T09:28:56.389999Z"
    },
    "papermill": {
     "duration": 0.062837,
     "end_time": "2020-12-26T09:28:56.390778",
     "exception": false,
     "start_time": "2020-12-26T09:28:56.327941",
     "status": "completed"
    },
    "tags": []
   },
   "outputs": [],
   "source": [
    "from sklearn.model_selection import GridSearchCV"
   ]
  },
  {
   "cell_type": "code",
   "execution_count": 26,
   "metadata": {
    "execution": {
     "iopub.execute_input": "2020-12-26T09:28:56.502458Z",
     "iopub.status.busy": "2020-12-26T09:28:56.501489Z",
     "iopub.status.idle": "2020-12-26T09:28:56.505625Z",
     "shell.execute_reply": "2020-12-26T09:28:56.505057Z"
    },
    "papermill": {
     "duration": 0.062121,
     "end_time": "2020-12-26T09:28:56.505760",
     "exception": false,
     "start_time": "2020-12-26T09:28:56.443639",
     "status": "completed"
    },
    "tags": []
   },
   "outputs": [],
   "source": [
    "#param_grid = { \n",
    "#  'n_estimators': [10,50,200, 500],\n",
    "#    'max_features': ['auto', 'sqrt', 'log2'],\n",
    "#    'max_depth' : [4,5,6,7,8],\n",
    "#   'criterion' :['gini', 'entropy']\n",
    "\n",
    "#}\n",
    "#rfc=RandomForestClassifier(random_state=42)\n",
    "#CV_rfc = GridSearchCV(estimator=rfc, param_grid=param_grid, cv= 5)\n",
    "#CV_rfc.fit(X_train, y_train)"
   ]
  },
  {
   "cell_type": "code",
   "execution_count": 27,
   "metadata": {
    "execution": {
     "iopub.execute_input": "2020-12-26T09:28:56.620169Z",
     "iopub.status.busy": "2020-12-26T09:28:56.619064Z",
     "iopub.status.idle": "2020-12-26T09:28:56.622836Z",
     "shell.execute_reply": "2020-12-26T09:28:56.622179Z"
    },
    "papermill": {
     "duration": 0.063073,
     "end_time": "2020-12-26T09:28:56.622973",
     "exception": false,
     "start_time": "2020-12-26T09:28:56.559900",
     "status": "completed"
    },
    "tags": []
   },
   "outputs": [],
   "source": [
    "#CV_rfc.best_params_"
   ]
  },
  {
   "cell_type": "code",
   "execution_count": 28,
   "metadata": {
    "execution": {
     "iopub.execute_input": "2020-12-26T09:28:56.757781Z",
     "iopub.status.busy": "2020-12-26T09:28:56.756625Z",
     "iopub.status.idle": "2020-12-26T09:29:03.165139Z",
     "shell.execute_reply": "2020-12-26T09:29:03.164446Z"
    },
    "papermill": {
     "duration": 6.471552,
     "end_time": "2020-12-26T09:29:03.165265",
     "exception": false,
     "start_time": "2020-12-26T09:28:56.693713",
     "status": "completed"
    },
    "tags": []
   },
   "outputs": [
    {
     "name": "stderr",
     "output_type": "stream",
     "text": [
      "/opt/conda/lib/python3.7/site-packages/ipykernel_launcher.py:3: DataConversionWarning: A column-vector y was passed when a 1d array was expected. Please change the shape of y to (n_samples,), for example using ravel().\n",
      "  This is separate from the ipykernel package so we can avoid doing imports until\n"
     ]
    },
    {
     "data": {
      "text/plain": [
       "RandomForestClassifier(max_depth=8, n_estimators=500, random_state=50)"
      ]
     },
     "execution_count": 28,
     "metadata": {},
     "output_type": "execute_result"
    }
   ],
   "source": [
    "# these parameters are obtained by hyperparameter tuning\n",
    "classifierfinal=RandomForestClassifier(n_estimators=500,criterion='gini',random_state=50,max_depth=8,max_features='auto')\n",
    "classifierfinal.fit(X_train,y_train)"
   ]
  },
  {
   "cell_type": "code",
   "execution_count": 29,
   "metadata": {
    "execution": {
     "iopub.execute_input": "2020-12-26T09:29:03.285349Z",
     "iopub.status.busy": "2020-12-26T09:29:03.284653Z",
     "iopub.status.idle": "2020-12-26T09:29:03.562131Z",
     "shell.execute_reply": "2020-12-26T09:29:03.562644Z"
    },
    "papermill": {
     "duration": 0.342397,
     "end_time": "2020-12-26T09:29:03.562842",
     "exception": false,
     "start_time": "2020-12-26T09:29:03.220445",
     "status": "completed"
    },
    "tags": []
   },
   "outputs": [
    {
     "name": "stdout",
     "output_type": "stream",
     "text": [
      "0.9523346303501945\n",
      "[[1915  118]\n",
      " [  78 2001]]\n"
     ]
    }
   ],
   "source": [
    "\n",
    "prediction1=classifierfinal.predict(X_test)\n",
    "print(accuracy_score(y_test,prediction1))\n",
    "print(confusion_matrix(y_test,prediction1))"
   ]
  },
  {
   "cell_type": "markdown",
   "metadata": {
    "papermill": {
     "duration": 0.055397,
     "end_time": "2020-12-26T09:29:03.674245",
     "exception": false,
     "start_time": "2020-12-26T09:29:03.618848",
     "status": "completed"
    },
    "tags": []
   },
   "source": [
    "wait a min**after tuning the model even we get less accuracy...sometimes it happens because initially our model have been overfitted the data...now this model is good to used **\n",
    "<h3> also it depands on the domain expertise what kind of metrics they require</h3>"
   ]
  },
  {
   "cell_type": "markdown",
   "metadata": {
    "papermill": {
     "duration": 0.055597,
     "end_time": "2020-12-26T09:29:03.789268",
     "exception": false,
     "start_time": "2020-12-26T09:29:03.733671",
     "status": "completed"
    },
    "tags": []
   },
   "source": [
    "<h1> so finally we are done with how a datascience project look like in an industry.. if You find this notebook useful..please upvote it and leave a comment.</h1>"
   ]
  },
  {
   "cell_type": "code",
   "execution_count": null,
   "metadata": {
    "papermill": {
     "duration": 0.054387,
     "end_time": "2020-12-26T09:29:03.899143",
     "exception": false,
     "start_time": "2020-12-26T09:29:03.844756",
     "status": "completed"
    },
    "tags": []
   },
   "outputs": [],
   "source": []
  }
 ],
 "metadata": {
  "kernelspec": {
   "display_name": "Python 3",
   "language": "python",
   "name": "python3"
  },
  "language_info": {
   "codemirror_mode": {
    "name": "ipython",
    "version": 3
   },
   "file_extension": ".py",
   "mimetype": "text/x-python",
   "name": "python",
   "nbconvert_exporter": "python",
   "pygments_lexer": "ipython3",
   "version": "3.7.6"
  },
  "papermill": {
   "duration": 22.809994,
   "end_time": "2020-12-26T09:29:04.062122",
   "environment_variables": {},
   "exception": null,
   "input_path": "__notebook__.ipynb",
   "output_path": "__notebook__.ipynb",
   "parameters": {},
   "start_time": "2020-12-26T09:28:41.252128",
   "version": "2.1.0"
  }
 },
 "nbformat": 4,
 "nbformat_minor": 4
}
